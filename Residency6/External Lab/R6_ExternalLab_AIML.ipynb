{
  "nbformat": 4,
  "nbformat_minor": 0,
  "metadata": {
    "colab": {
      "name": "R6_ExternalLab_AIML.ipynb",
      "version": "0.3.2",
      "provenance": [],
      "collapsed_sections": []
    },
    "kernelspec": {
      "display_name": "Python 2",
      "language": "python",
      "name": "python2"
    }
  },
  "cells": [
    {
      "metadata": {
        "id": "YYk8NG3yOIT9",
        "colab_type": "text"
      },
      "cell_type": "markdown",
      "source": [
        "### A MNIST-like fashion product database\n",
        "\n",
        "In this, we classify the images into respective classes given in the dataset. We use a Neural Net and a Deep Neural Net in Keras to solve this and check the accuracy scores."
      ]
    },
    {
      "metadata": {
        "slideshow": {
          "slide_type": "slide"
        },
        "id": "tFO6PuxzOIT_",
        "colab_type": "text"
      },
      "cell_type": "markdown",
      "source": [
        "### Load tensorflow"
      ]
    },
    {
      "metadata": {
        "id": "efNjNImfOIUC",
        "colab_type": "code",
        "colab": {}
      },
      "cell_type": "code",
      "source": [
        "import tensorflow as tf\n",
        "import numpy as np\n",
        "\n",
        "tf.set_random_seed(42)"
      ],
      "execution_count": 0,
      "outputs": []
    },
    {
      "metadata": {
        "id": "l9C4aAIGOIUH",
        "colab_type": "code",
        "outputId": "1cdeec7e-e482-480c-e265-702539d8452c",
        "colab": {
          "base_uri": "https://localhost:8080/",
          "height": 34
        }
      },
      "cell_type": "code",
      "source": [
        "tf.__version__"
      ],
      "execution_count": 2,
      "outputs": [
        {
          "output_type": "execute_result",
          "data": {
            "text/plain": [
              "'1.12.0'"
            ]
          },
          "metadata": {
            "tags": []
          },
          "execution_count": 2
        }
      ]
    },
    {
      "metadata": {
        "slideshow": {
          "slide_type": "slide"
        },
        "id": "HcoZBStrOIUQ",
        "colab_type": "text"
      },
      "cell_type": "markdown",
      "source": [
        "### Collect Data"
      ]
    },
    {
      "metadata": {
        "id": "XA1WsFSeOIUS",
        "colab_type": "code",
        "colab": {
          "base_uri": "https://localhost:8080/",
          "height": 34
        },
        "outputId": "fdbcbf20-6f7a-4fff-f79d-394cd631be6b"
      },
      "cell_type": "code",
      "source": [
        "import keras"
      ],
      "execution_count": 3,
      "outputs": [
        {
          "output_type": "stream",
          "text": [
            "Using TensorFlow backend.\n"
          ],
          "name": "stderr"
        }
      ]
    },
    {
      "metadata": {
        "id": "qnbx7TyQOIUY",
        "colab_type": "code",
        "colab": {
          "base_uri": "https://localhost:8080/",
          "height": 204
        },
        "outputId": "6755cdc2-6f94-42ae-e406-77fd8d9b7906"
      },
      "cell_type": "code",
      "source": [
        "(trainX, trainY), (testX, testY) = keras.datasets.fashion_mnist.load_data()"
      ],
      "execution_count": 4,
      "outputs": [
        {
          "output_type": "stream",
          "text": [
            "Downloading data from http://fashion-mnist.s3-website.eu-central-1.amazonaws.com/train-labels-idx1-ubyte.gz\n",
            "32768/29515 [=================================] - 0s 3us/step\n",
            "40960/29515 [=========================================] - 0s 2us/step\n",
            "Downloading data from http://fashion-mnist.s3-website.eu-central-1.amazonaws.com/train-images-idx3-ubyte.gz\n",
            "26427392/26421880 [==============================] - 2s 0us/step\n",
            "26435584/26421880 [==============================] - 2s 0us/step\n",
            "Downloading data from http://fashion-mnist.s3-website.eu-central-1.amazonaws.com/t10k-labels-idx1-ubyte.gz\n",
            "16384/5148 [===============================================================================================] - 0s 0us/step\n",
            "Downloading data from http://fashion-mnist.s3-website.eu-central-1.amazonaws.com/t10k-images-idx3-ubyte.gz\n",
            "4423680/4422102 [==============================] - 1s 0us/step\n",
            "4431872/4422102 [==============================] - 1s 0us/step\n"
          ],
          "name": "stdout"
        }
      ]
    },
    {
      "metadata": {
        "slideshow": {
          "slide_type": "fragment"
        },
        "id": "UbiHj5YPOIUc",
        "colab_type": "code",
        "outputId": "b884d55f-2e78-4d38-9e31-9c5f879cf691",
        "colab": {
          "base_uri": "https://localhost:8080/",
          "height": 34
        }
      },
      "cell_type": "code",
      "source": [
        "print(testY[0:5])"
      ],
      "execution_count": 5,
      "outputs": [
        {
          "output_type": "stream",
          "text": [
            "[9 2 1 1 6]\n"
          ],
          "name": "stdout"
        }
      ]
    },
    {
      "metadata": {
        "id": "EYXmPqI8O029",
        "colab_type": "code",
        "outputId": "ab8cd96a-4812-415d-f70c-3ab0265ef3f4",
        "colab": {
          "base_uri": "https://localhost:8080/",
          "height": 34
        }
      },
      "cell_type": "code",
      "source": [
        "print \"Train set shape: \", trainX.shape"
      ],
      "execution_count": 6,
      "outputs": [
        {
          "output_type": "stream",
          "text": [
            "Train set shape:  (60000, 28, 28)\n"
          ],
          "name": "stdout"
        }
      ]
    },
    {
      "metadata": {
        "id": "ZcldJhLuO8cl",
        "colab_type": "code",
        "outputId": "41713baf-4104-473b-979c-1fe2f5fc4a28",
        "colab": {
          "base_uri": "https://localhost:8080/",
          "height": 34
        }
      },
      "cell_type": "code",
      "source": [
        "print \"Test set shape: \", testX.shape"
      ],
      "execution_count": 7,
      "outputs": [
        {
          "output_type": "stream",
          "text": [
            "Test set shape:  (10000, 28, 28)\n"
          ],
          "name": "stdout"
        }
      ]
    },
    {
      "metadata": {
        "id": "dsDIR60IPUiK",
        "colab_type": "code",
        "outputId": "56333703-f97f-4f83-bf0d-74fb1d417921",
        "colab": {
          "base_uri": "https://localhost:8080/",
          "height": 34
        }
      },
      "cell_type": "code",
      "source": [
        "print \"Unique train labels: \", np.unique(trainY)"
      ],
      "execution_count": 8,
      "outputs": [
        {
          "output_type": "stream",
          "text": [
            "Unique train labels:  [0 1 2 3 4 5 6 7 8 9]\n"
          ],
          "name": "stdout"
        }
      ]
    },
    {
      "metadata": {
        "id": "DVonJNONQuYN",
        "colab_type": "code",
        "outputId": "e611c442-4ed6-420a-c096-f1fd115956da",
        "colab": {
          "base_uri": "https://localhost:8080/",
          "height": 34
        }
      },
      "cell_type": "code",
      "source": [
        "print \"Unique test labels: \", np.unique(testY)"
      ],
      "execution_count": 9,
      "outputs": [
        {
          "output_type": "stream",
          "text": [
            "Unique test labels:  [0 1 2 3 4 5 6 7 8 9]\n"
          ],
          "name": "stdout"
        }
      ]
    },
    {
      "metadata": {
        "id": "JtQ8B5fXSMNv",
        "colab_type": "text"
      },
      "cell_type": "markdown",
      "source": [
        "**Observations:**\n",
        "\n",
        "\n",
        "---\n",
        "\n",
        "The trainset has 60000 images each with 28 * 28 pixels.\n",
        "\n",
        "There are 10 different types of images. "
      ]
    },
    {
      "metadata": {
        "slideshow": {
          "slide_type": "slide"
        },
        "id": "lDAYzkwyOIUj",
        "colab_type": "text"
      },
      "cell_type": "markdown",
      "source": [
        "### Convert both training and testing labels into one-hot vectors.\n",
        "\n",
        "**Hint:** check **tf.keras.utils.to_categorical()**"
      ]
    },
    {
      "metadata": {
        "id": "qoyghDfyRGn1",
        "colab_type": "code",
        "outputId": "65e1e24c-912f-4f54-b78b-c5d8ade4421b",
        "colab": {
          "base_uri": "https://localhost:8080/",
          "height": 51
        }
      },
      "cell_type": "code",
      "source": [
        "print \"Train lable shape before hot encoding: \", trainY.shape\n",
        "print 'First 5 Train labels before hot encoding: ', trainY[0:5]"
      ],
      "execution_count": 10,
      "outputs": [
        {
          "output_type": "stream",
          "text": [
            "Train lable shape before hot encoding:  (60000,)\n",
            "First 5 Train labels before hot encoding:  [9 0 0 3 0]\n"
          ],
          "name": "stdout"
        }
      ]
    },
    {
      "metadata": {
        "id": "vBlfYlANOIUk",
        "colab_type": "code",
        "colab": {}
      },
      "cell_type": "code",
      "source": [
        "trainY = tf.keras.utils.to_categorical(trainY)\n",
        "testY = tf.keras.utils.to_categorical(testY)"
      ],
      "execution_count": 0,
      "outputs": []
    },
    {
      "metadata": {
        "scrolled": true,
        "slideshow": {
          "slide_type": "fragment"
        },
        "id": "RHV3b9mzOIUq",
        "colab_type": "code",
        "outputId": "6c2bc46a-16b4-4ec0-f873-9d087d676a14",
        "colab": {
          "base_uri": "https://localhost:8080/",
          "height": 119
        }
      },
      "cell_type": "code",
      "source": [
        "print \"Train lable shape after hot encoding: \", trainY.shape\n",
        "print 'First 5 Train labels after hot encoding: ', trainY[0:5]"
      ],
      "execution_count": 12,
      "outputs": [
        {
          "output_type": "stream",
          "text": [
            "Train lable shape after hot encoding:  (60000, 10)\n",
            "First 5 Train labels after hot encoding:  [[0. 0. 0. 0. 0. 0. 0. 0. 0. 1.]\n",
            " [1. 0. 0. 0. 0. 0. 0. 0. 0. 0.]\n",
            " [1. 0. 0. 0. 0. 0. 0. 0. 0. 0.]\n",
            " [0. 0. 0. 1. 0. 0. 0. 0. 0. 0.]\n",
            " [1. 0. 0. 0. 0. 0. 0. 0. 0. 0.]]\n"
          ],
          "name": "stdout"
        }
      ]
    },
    {
      "metadata": {
        "id": "FwhQ8e7VOIUw",
        "colab_type": "text"
      },
      "cell_type": "markdown",
      "source": [
        "### Visualize the data\n",
        "\n",
        "Plot first 10 images in the triaining set and their labels."
      ]
    },
    {
      "metadata": {
        "id": "J-MNjUGe80cY",
        "colab_type": "code",
        "outputId": "26a4e720-edda-4d68-dd36-1b8f0565219e",
        "colab": {
          "base_uri": "https://localhost:8080/",
          "height": 103
        }
      },
      "cell_type": "code",
      "source": [
        "import matplotlib.pyplot as plt\n",
        "import numpy as np\n",
        "\n",
        "fig, axes = plt.subplots(nrows=1, ncols=10, figsize=(10, 10))\n",
        "\n",
        "for i, ax in enumerate(axes.flat, start=0):\n",
        "    ax.imshow(trainX[i],cmap='gray')\n",
        "    ax.grid(False)\n",
        "    ax.set_xticks([])\n",
        "    ax.set_yticks([])\n",
        "    ax.set_xlabel(np.argmax(trainY[i]))\n",
        "    \n",
        "plt.tight_layout()\n",
        "plt.show()"
      ],
      "execution_count": 13,
      "outputs": [
        {
          "output_type": "display_data",
          "data": {
            "image/png": "[encoded data removed]",
            "text/plain": [
              "<Figure size 720x720 with 10 Axes>"
            ]
          },
          "metadata": {
            "tags": []
          }
        }
      ]
    },
    {
      "metadata": {
        "slideshow": {
          "slide_type": "slide"
        },
        "id": "l4TbJGeSOIU4",
        "colab_type": "text"
      },
      "cell_type": "markdown",
      "source": [
        "### Build a neural Network with a cross entropy loss function and sgd optimizer in Keras. The output layer with 10 neurons as we have 10 classes."
      ]
    },
    {
      "metadata": {
        "id": "WJeN5YBDI6jb",
        "colab_type": "code",
        "outputId": "b6574053-3131-483a-eb8f-47d9efe66c75",
        "colab": {
          "base_uri": "https://localhost:8080/",
          "height": 34
        }
      },
      "cell_type": "code",
      "source": [
        "# Lets check the shape of the image\n",
        "trainX[0].shape"
      ],
      "execution_count": 14,
      "outputs": [
        {
          "output_type": "execute_result",
          "data": {
            "text/plain": [
              "(28, 28)"
            ]
          },
          "metadata": {
            "tags": []
          },
          "execution_count": 14
        }
      ]
    },
    {
      "metadata": {
        "id": "Ac06XZZTOIU6",
        "colab_type": "code",
        "colab": {}
      },
      "cell_type": "code",
      "source": [
        "#Initialize Sequential model\n",
        "model = tf.keras.models.Sequential()\n",
        "\n",
        "#Reshape data from 2D to 1D -> 28x28 to 784 (Input Layer)\n",
        "model.add(tf.keras.layers.Reshape((784,),input_shape=(28,28,)))\n",
        "\n",
        "#Add Dense Layer which provides 10 Outputs after applying softmax (Output Layer)\n",
        "model.add(tf.keras.layers.Dense(10, activation='softmax'))\n",
        "\n",
        "#Comile the model\n",
        "model.compile(optimizer='sgd', loss='categorical_crossentropy', metrics=['accuracy'])"
      ],
      "execution_count": 0,
      "outputs": []
    },
    {
      "metadata": {
        "id": "rfGl1RiHR3kL",
        "colab_type": "code",
        "outputId": "5b79c8e9-531e-47d2-dde3-c95fa3f097c4",
        "colab": {
          "base_uri": "https://localhost:8080/",
          "height": 204
        }
      },
      "cell_type": "code",
      "source": [
        "model.summary()"
      ],
      "execution_count": 16,
      "outputs": [
        {
          "output_type": "stream",
          "text": [
            "_________________________________________________________________\n",
            "Layer (type)                 Output Shape              Param #   \n",
            "=================================================================\n",
            "reshape (Reshape)            (None, 784)               0         \n",
            "_________________________________________________________________\n",
            "dense (Dense)                (None, 10)                7850      \n",
            "=================================================================\n",
            "Total params: 7,850\n",
            "Trainable params: 7,850\n",
            "Non-trainable params: 0\n",
            "_________________________________________________________________\n"
          ],
          "name": "stdout"
        }
      ]
    },
    {
      "metadata": {
        "slideshow": {
          "slide_type": "slide"
        },
        "id": "3hQpLv3aOIU_",
        "colab_type": "text"
      },
      "cell_type": "markdown",
      "source": [
        "### Execute the model using model.fit()"
      ]
    },
    {
      "metadata": {
        "id": "O59C_-IgOIVB",
        "colab_type": "code",
        "outputId": "4ca10567-145c-4933-e366-a1edb5d9de0b",
        "colab": {
          "base_uri": "https://localhost:8080/",
          "height": 391
        }
      },
      "cell_type": "code",
      "source": [
        "model.fit(trainX, trainY, \n",
        "          validation_data=(testX, testY), \n",
        "          epochs=10,\n",
        "          batch_size=32)"
      ],
      "execution_count": 17,
      "outputs": [
        {
          "output_type": "stream",
          "text": [
            "Train on 60000 samples, validate on 10000 samples\n",
            "Epoch 1/10\n",
            "60000/60000 [==============================] - 3s 42us/step - loss: 13.9744 - acc: 0.1328 - val_loss: 12.9229 - val_acc: 0.1982\n",
            "Epoch 2/10\n",
            "60000/60000 [==============================] - 2s 35us/step - loss: 12.9377 - acc: 0.1973 - val_loss: 12.9058 - val_acc: 0.1993\n",
            "Epoch 3/10\n",
            "60000/60000 [==============================] - 2s 34us/step - loss: 12.9039 - acc: 0.1994 - val_loss: 12.9058 - val_acc: 0.1993\n",
            "Epoch 4/10\n",
            "60000/60000 [==============================] - 2s 34us/step - loss: 12.9039 - acc: 0.1994 - val_loss: 12.9058 - val_acc: 0.1993\n",
            "Epoch 5/10\n",
            "60000/60000 [==============================] - 2s 35us/step - loss: 12.9039 - acc: 0.1994 - val_loss: 12.9058 - val_acc: 0.1993\n",
            "Epoch 6/10\n",
            "60000/60000 [==============================] - 2s 35us/step - loss: 12.9039 - acc: 0.1994 - val_loss: 12.9058 - val_acc: 0.1993\n",
            "Epoch 7/10\n",
            "60000/60000 [==============================] - 2s 34us/step - loss: 12.9039 - acc: 0.1994 - val_loss: 12.9058 - val_acc: 0.1993\n",
            "Epoch 8/10\n",
            "60000/60000 [==============================] - 2s 35us/step - loss: 12.9039 - acc: 0.1994 - val_loss: 12.9058 - val_acc: 0.1993\n",
            "Epoch 9/10\n",
            "60000/60000 [==============================] - 2s 35us/step - loss: 12.9039 - acc: 0.1994 - val_loss: 12.9058 - val_acc: 0.1993\n",
            "Epoch 10/10\n",
            "60000/60000 [==============================] - 2s 35us/step - loss: 12.9039 - acc: 0.1994 - val_loss: 12.9058 - val_acc: 0.1993\n"
          ],
          "name": "stdout"
        },
        {
          "output_type": "execute_result",
          "data": {
            "text/plain": [
              "<tensorflow.python.keras.callbacks.History at 0x7fdaeb86cf50>"
            ]
          },
          "metadata": {
            "tags": []
          },
          "execution_count": 17
        }
      ]
    },
    {
      "metadata": {
        "id": "4x2M9h_3TWK2",
        "colab_type": "text"
      },
      "cell_type": "markdown",
      "source": [
        "**Observations:**\n",
        "\n",
        "\n",
        "---\n",
        "\n",
        "The accuracy is very less. We have to try with normalizing the data and with other hyperparameter tuning to increase the accuracy."
      ]
    },
    {
      "metadata": {
        "slideshow": {
          "slide_type": "slide"
        },
        "id": "JdzDtGwDOIVF",
        "colab_type": "text"
      },
      "cell_type": "markdown",
      "source": [
        "### In the above Neural Network model add Batch Normalization layer after the input layer and repeat the steps."
      ]
    },
    {
      "metadata": {
        "id": "kndfpdidOIVI",
        "colab_type": "code",
        "colab": {}
      },
      "cell_type": "code",
      "source": [
        "#Initialize Sequential model\n",
        "model = tf.keras.models.Sequential()\n",
        "\n",
        "#Reshape data from 2D to 1D -> 28x28 to 784 (Input Layer)\n",
        "model.add(tf.keras.layers.Reshape((784,),input_shape=(28,28,)))\n",
        "\n",
        "#Normalize the data\n",
        "model.add(tf.keras.layers.BatchNormalization())\n",
        "\n",
        "#Add Dense Layer which provides 10 Outputs after applying softmax (Output Layer)\n",
        "model.add(tf.keras.layers.Dense(10, activation='softmax'))\n",
        "\n",
        "#Comile the model\n",
        "model.compile(optimizer='sgd', loss='categorical_crossentropy', metrics=['accuracy'])"
      ],
      "execution_count": 0,
      "outputs": []
    },
    {
      "metadata": {
        "id": "3_s7Luo3SL2Y",
        "colab_type": "code",
        "outputId": "94cacff6-9e2a-4f62-9915-77cbc9112a0d",
        "colab": {
          "base_uri": "https://localhost:8080/",
          "height": 238
        }
      },
      "cell_type": "code",
      "source": [
        "model.summary()"
      ],
      "execution_count": 19,
      "outputs": [
        {
          "output_type": "stream",
          "text": [
            "_________________________________________________________________\n",
            "Layer (type)                 Output Shape              Param #   \n",
            "=================================================================\n",
            "reshape_1 (Reshape)          (None, 784)               0         \n",
            "_________________________________________________________________\n",
            "batch_normalization (BatchNo (None, 784)               3136      \n",
            "_________________________________________________________________\n",
            "dense_1 (Dense)              (None, 10)                7850      \n",
            "=================================================================\n",
            "Total params: 10,986\n",
            "Trainable params: 9,418\n",
            "Non-trainable params: 1,568\n",
            "_________________________________________________________________\n"
          ],
          "name": "stdout"
        }
      ]
    },
    {
      "metadata": {
        "slideshow": {
          "slide_type": "slide"
        },
        "id": "mwk3T5LJOIVN",
        "colab_type": "text"
      },
      "cell_type": "markdown",
      "source": [
        "### Execute the model"
      ]
    },
    {
      "metadata": {
        "id": "JNLR8tcBOIVP",
        "colab_type": "code",
        "outputId": "04ed2863-aa70-4bbe-baa5-b77cd4e0e576",
        "colab": {
          "base_uri": "https://localhost:8080/",
          "height": 391
        }
      },
      "cell_type": "code",
      "source": [
        "model.fit(trainX, trainY, \n",
        "          validation_data=(testX, testY), \n",
        "          epochs=10,\n",
        "          batch_size=32)"
      ],
      "execution_count": 20,
      "outputs": [
        {
          "output_type": "stream",
          "text": [
            "Train on 60000 samples, validate on 10000 samples\n",
            "Epoch 1/10\n",
            "60000/60000 [==============================] - 4s 59us/step - loss: 0.6061 - acc: 0.7925 - val_loss: 0.5148 - val_acc: 0.8249\n",
            "Epoch 2/10\n",
            "60000/60000 [==============================] - 3s 58us/step - loss: 0.4916 - acc: 0.8286 - val_loss: 0.4799 - val_acc: 0.8333\n",
            "Epoch 3/10\n",
            "60000/60000 [==============================] - 3s 55us/step - loss: 0.4693 - acc: 0.8405 - val_loss: 0.4822 - val_acc: 0.8354\n",
            "Epoch 4/10\n",
            "60000/60000 [==============================] - 3s 56us/step - loss: 0.4594 - acc: 0.8420 - val_loss: 0.4669 - val_acc: 0.8378\n",
            "Epoch 5/10\n",
            "60000/60000 [==============================] - 3s 55us/step - loss: 0.4500 - acc: 0.8440 - val_loss: 0.4655 - val_acc: 0.8382\n",
            "Epoch 6/10\n",
            "60000/60000 [==============================] - 3s 55us/step - loss: 0.4445 - acc: 0.8460 - val_loss: 0.4716 - val_acc: 0.8379\n",
            "Epoch 7/10\n",
            "60000/60000 [==============================] - 3s 55us/step - loss: 0.4386 - acc: 0.8480 - val_loss: 0.4602 - val_acc: 0.8417\n",
            "Epoch 8/10\n",
            "60000/60000 [==============================] - 3s 55us/step - loss: 0.4343 - acc: 0.8486 - val_loss: 0.4590 - val_acc: 0.8404\n",
            "Epoch 9/10\n",
            "60000/60000 [==============================] - 3s 54us/step - loss: 0.4322 - acc: 0.8495 - val_loss: 0.4637 - val_acc: 0.8395\n",
            "Epoch 10/10\n",
            "60000/60000 [==============================] - 3s 56us/step - loss: 0.4312 - acc: 0.8509 - val_loss: 0.4576 - val_acc: 0.8412\n"
          ],
          "name": "stdout"
        },
        {
          "output_type": "execute_result",
          "data": {
            "text/plain": [
              "<tensorflow.python.keras.callbacks.History at 0x7fdae8444cd0>"
            ]
          },
          "metadata": {
            "tags": []
          },
          "execution_count": 20
        }
      ]
    },
    {
      "metadata": {
        "id": "QUKjNrbtTyxB",
        "colab_type": "text"
      },
      "cell_type": "markdown",
      "source": [
        "**Observations:**\n",
        "\n",
        "\n",
        "---\n",
        "\n",
        "Accuracy have improved highly by doing batch normalization. Lets impover the accuracy by tuning the hyper parameters."
      ]
    },
    {
      "metadata": {
        "id": "Py-KwkmjOIVU",
        "colab_type": "text"
      },
      "cell_type": "markdown",
      "source": [
        "### Customize the learning rate to 0.001 in sgd optimizer and run the model"
      ]
    },
    {
      "metadata": {
        "id": "yLXUE9jWOIVV",
        "colab_type": "code",
        "colab": {}
      },
      "cell_type": "code",
      "source": [
        "#Initialize Sequential model\n",
        "model = tf.keras.models.Sequential()\n",
        "\n",
        "#Reshape data from 2D to 1D -> 28x28 to 784 (Input Layer)\n",
        "model.add(tf.keras.layers.Reshape((784,),input_shape=(28,28,)))\n",
        "\n",
        "#Normalize the data\n",
        "model.add(tf.keras.layers.BatchNormalization())\n",
        "\n",
        "#Add Dense Layer which provides 10 Outputs after applying softmax (Output Layer)\n",
        "model.add(tf.keras.layers.Dense(10, activation='softmax'))\n",
        "\n",
        "#Optimizer\n",
        "sgd_optimizer = tf.keras.optimizers.SGD(lr=0.001)\n",
        "\n",
        "#Comile the model\n",
        "model.compile(optimizer=sgd_optimizer, loss='categorical_crossentropy', metrics=['accuracy'])"
      ],
      "execution_count": 0,
      "outputs": []
    },
    {
      "metadata": {
        "id": "sQlhuNJ4OrMc",
        "colab_type": "code",
        "outputId": "a969f186-ccc1-4608-d951-84abb0bcd6bc",
        "colab": {
          "base_uri": "https://localhost:8080/",
          "height": 238
        }
      },
      "cell_type": "code",
      "source": [
        "model.summary()"
      ],
      "execution_count": 22,
      "outputs": [
        {
          "output_type": "stream",
          "text": [
            "_________________________________________________________________\n",
            "Layer (type)                 Output Shape              Param #   \n",
            "=================================================================\n",
            "reshape_2 (Reshape)          (None, 784)               0         \n",
            "_________________________________________________________________\n",
            "batch_normalization_1 (Batch (None, 784)               3136      \n",
            "_________________________________________________________________\n",
            "dense_2 (Dense)              (None, 10)                7850      \n",
            "=================================================================\n",
            "Total params: 10,986\n",
            "Trainable params: 9,418\n",
            "Non-trainable params: 1,568\n",
            "_________________________________________________________________\n"
          ],
          "name": "stdout"
        }
      ]
    },
    {
      "metadata": {
        "id": "pJUqA5T4OIVc",
        "colab_type": "code",
        "outputId": "abf9bd73-7816-401b-a215-aff2d9bbeee5",
        "colab": {
          "base_uri": "https://localhost:8080/",
          "height": 391
        }
      },
      "cell_type": "code",
      "source": [
        "model.fit(trainX, trainY, \n",
        "          validation_data=(testX, testY), \n",
        "          epochs=10,\n",
        "          batch_size=32)"
      ],
      "execution_count": 23,
      "outputs": [
        {
          "output_type": "stream",
          "text": [
            "Train on 60000 samples, validate on 10000 samples\n",
            "Epoch 1/10\n",
            "60000/60000 [==============================] - 4s 59us/step - loss: 0.9568 - acc: 0.6800 - val_loss: 0.7009 - val_acc: 0.7599\n",
            "Epoch 2/10\n",
            "60000/60000 [==============================] - 3s 55us/step - loss: 0.6475 - acc: 0.7830 - val_loss: 0.6105 - val_acc: 0.7893\n",
            "Epoch 3/10\n",
            "60000/60000 [==============================] - 3s 55us/step - loss: 0.5899 - acc: 0.7976 - val_loss: 0.5732 - val_acc: 0.8030\n",
            "Epoch 4/10\n",
            "60000/60000 [==============================] - 3s 56us/step - loss: 0.5595 - acc: 0.8078 - val_loss: 0.5574 - val_acc: 0.8107\n",
            "Epoch 5/10\n",
            "60000/60000 [==============================] - 3s 56us/step - loss: 0.5402 - acc: 0.8160 - val_loss: 0.5428 - val_acc: 0.8142\n",
            "Epoch 6/10\n",
            "60000/60000 [==============================] - 3s 55us/step - loss: 0.5262 - acc: 0.8200 - val_loss: 0.5396 - val_acc: 0.8165\n",
            "Epoch 7/10\n",
            "60000/60000 [==============================] - 3s 55us/step - loss: 0.5177 - acc: 0.8226 - val_loss: 0.5180 - val_acc: 0.8197\n",
            "Epoch 8/10\n",
            "60000/60000 [==============================] - 3s 55us/step - loss: 0.5046 - acc: 0.8272 - val_loss: 0.5169 - val_acc: 0.8217\n",
            "Epoch 9/10\n",
            "60000/60000 [==============================] - 3s 56us/step - loss: 0.5013 - acc: 0.8282 - val_loss: 0.5118 - val_acc: 0.8226\n",
            "Epoch 10/10\n",
            "60000/60000 [==============================] - 3s 56us/step - loss: 0.4927 - acc: 0.8325 - val_loss: 0.5058 - val_acc: 0.8234\n"
          ],
          "name": "stdout"
        },
        {
          "output_type": "execute_result",
          "data": {
            "text/plain": [
              "<tensorflow.python.keras.callbacks.History at 0x7fdae8db9850>"
            ]
          },
          "metadata": {
            "tags": []
          },
          "execution_count": 23
        }
      ]
    },
    {
      "metadata": {
        "id": "ltbKPJ2lUbQZ",
        "colab_type": "text"
      },
      "cell_type": "markdown",
      "source": [
        "**Observations:**\n",
        "\n",
        "\n",
        "---\n",
        "\n",
        "By having learning rate as 0.001, the model have not improved, rather the accuracy have somwhat reduced. Lets introduce the some Dense layer."
      ]
    },
    {
      "metadata": {
        "slideshow": {
          "slide_type": "slide"
        },
        "id": "j9CSqKvpOIVk",
        "colab_type": "text"
      },
      "cell_type": "markdown",
      "source": [
        "### Build the Neural Network model with 3 Dense layers with 100,100,10 neurons respectively in each layer. Use cross entropy loss function and singmoid as activation in the hidden layers and softmax as activation function in the output layer. Use sgd optimizer with learning rate 0.03."
      ]
    },
    {
      "metadata": {
        "id": "GGAad54JOIVm",
        "colab_type": "code",
        "colab": {}
      },
      "cell_type": "code",
      "source": [
        "#Initialize Sequential model\n",
        "model = tf.keras.models.Sequential()\n",
        "\n",
        "#Reshape data from 2D to 1D -> 28x28 to 784 (Input Layer)\n",
        "model.add(tf.keras.layers.Reshape((784,),input_shape=(28,28,)))\n",
        "\n",
        "#Normalize the data\n",
        "model.add(tf.keras.layers.BatchNormalization())\n",
        "\n",
        "#Add 1st Dense/hidden layer\n",
        "model.add(tf.keras.layers.Dense(100, activation='relu'))\n",
        "\n",
        "#Add 2nd Dense/hidden layer\n",
        "model.add(tf.keras.layers.Dense(100, activation='relu'))\n",
        "\n",
        "#Add 3rd Dense/hidden layer\n",
        "model.add(tf.keras.layers.Dense(10, activation='relu'))\n",
        "\n",
        "#Add Dense Layer which provides 10 Outputs after applying softmax (Output Layer)\n",
        "model.add(tf.keras.layers.Dense(10, activation='softmax'))\n",
        "\n",
        "#optimizer with learning parameter\n",
        "sgd_optimizer = tf.keras.optimizers.SGD(lr=0.03)\n",
        "\n",
        "#Comile the model\n",
        "model.compile(optimizer=sgd_optimizer, loss='categorical_crossentropy', metrics=['accuracy'])"
      ],
      "execution_count": 0,
      "outputs": []
    },
    {
      "metadata": {
        "slideshow": {
          "slide_type": "slide"
        },
        "id": "Nr2YsZV0OIV0",
        "colab_type": "text"
      },
      "cell_type": "markdown",
      "source": [
        "## Review model"
      ]
    },
    {
      "metadata": {
        "id": "h4ojW6-oOIV2",
        "colab_type": "code",
        "outputId": "03ca59b6-6b42-429c-b3b8-4b058f5fd0b5",
        "colab": {
          "base_uri": "https://localhost:8080/",
          "height": 340
        }
      },
      "cell_type": "code",
      "source": [
        "model.summary()"
      ],
      "execution_count": 25,
      "outputs": [
        {
          "output_type": "stream",
          "text": [
            "_________________________________________________________________\n",
            "Layer (type)                 Output Shape              Param #   \n",
            "=================================================================\n",
            "reshape_3 (Reshape)          (None, 784)               0         \n",
            "_________________________________________________________________\n",
            "batch_normalization_2 (Batch (None, 784)               3136      \n",
            "_________________________________________________________________\n",
            "dense_3 (Dense)              (None, 100)               78500     \n",
            "_________________________________________________________________\n",
            "dense_4 (Dense)              (None, 100)               10100     \n",
            "_________________________________________________________________\n",
            "dense_5 (Dense)              (None, 10)                1010      \n",
            "_________________________________________________________________\n",
            "dense_6 (Dense)              (None, 10)                110       \n",
            "=================================================================\n",
            "Total params: 92,856\n",
            "Trainable params: 91,288\n",
            "Non-trainable params: 1,568\n",
            "_________________________________________________________________\n"
          ],
          "name": "stdout"
        }
      ]
    },
    {
      "metadata": {
        "slideshow": {
          "slide_type": "slide"
        },
        "id": "gfFGmbZLOIV5",
        "colab_type": "text"
      },
      "cell_type": "markdown",
      "source": [
        "### Run the model"
      ]
    },
    {
      "metadata": {
        "id": "bIkbMEN5OIV7",
        "colab_type": "code",
        "outputId": "83a98973-d55c-4fe0-ad6d-d42e177574b7",
        "colab": {
          "base_uri": "https://localhost:8080/",
          "height": 391
        }
      },
      "cell_type": "code",
      "source": [
        "model.fit(trainX, trainY, \n",
        "          validation_data=(testX, testY), \n",
        "          epochs=10,\n",
        "          batch_size=32)"
      ],
      "execution_count": 26,
      "outputs": [
        {
          "output_type": "stream",
          "text": [
            "Train on 60000 samples, validate on 10000 samples\n",
            "Epoch 1/10\n",
            "60000/60000 [==============================] - 6s 100us/step - loss: 0.5459 - acc: 0.8082 - val_loss: 0.4328 - val_acc: 0.8424\n",
            "Epoch 2/10\n",
            "60000/60000 [==============================] - 6s 94us/step - loss: 0.3949 - acc: 0.8567 - val_loss: 0.3945 - val_acc: 0.8547\n",
            "Epoch 3/10\n",
            "60000/60000 [==============================] - 6s 94us/step - loss: 0.3558 - acc: 0.8700 - val_loss: 0.3727 - val_acc: 0.8671\n",
            "Epoch 4/10\n",
            "60000/60000 [==============================] - 6s 96us/step - loss: 0.3298 - acc: 0.8774 - val_loss: 0.3651 - val_acc: 0.8704\n",
            "Epoch 5/10\n",
            "60000/60000 [==============================] - 6s 101us/step - loss: 0.3137 - acc: 0.8836 - val_loss: 0.3500 - val_acc: 0.8733\n",
            "Epoch 6/10\n",
            "60000/60000 [==============================] - 6s 96us/step - loss: 0.2974 - acc: 0.8902 - val_loss: 0.3457 - val_acc: 0.8753\n",
            "Epoch 7/10\n",
            "60000/60000 [==============================] - 6s 93us/step - loss: 0.2821 - acc: 0.8948 - val_loss: 0.3632 - val_acc: 0.8685\n",
            "Epoch 8/10\n",
            "60000/60000 [==============================] - 6s 93us/step - loss: 0.2713 - acc: 0.8994 - val_loss: 0.3433 - val_acc: 0.8768\n",
            "Epoch 9/10\n",
            "60000/60000 [==============================] - 6s 94us/step - loss: 0.2623 - acc: 0.9028 - val_loss: 0.3477 - val_acc: 0.8796\n",
            "Epoch 10/10\n",
            "60000/60000 [==============================] - 6s 93us/step - loss: 0.2564 - acc: 0.9037 - val_loss: 0.3444 - val_acc: 0.8802\n"
          ],
          "name": "stdout"
        },
        {
          "output_type": "execute_result",
          "data": {
            "text/plain": [
              "<tensorflow.python.keras.callbacks.History at 0x7fdae8288bd0>"
            ]
          },
          "metadata": {
            "tags": []
          },
          "execution_count": 26
        }
      ]
    },
    {
      "metadata": {
        "id": "OO4bLqYRVQCq",
        "colab_type": "text"
      },
      "cell_type": "markdown",
      "source": [
        "**Observations:**\n",
        "\n",
        "\n",
        "---\n",
        "\n",
        "By introducing the dense layer and having learning rate as 0.03, the accuracy have improved from .84 to .88. Still the accuracy can be increased by reducing the batch size and increasing the epoch."
      ]
    },
    {
      "metadata": {
        "id": "ssaAQP42SrCV",
        "colab_type": "code",
        "colab": {}
      },
      "cell_type": "code",
      "source": [
        ""
      ],
      "execution_count": 0,
      "outputs": []
    }
  ]
}