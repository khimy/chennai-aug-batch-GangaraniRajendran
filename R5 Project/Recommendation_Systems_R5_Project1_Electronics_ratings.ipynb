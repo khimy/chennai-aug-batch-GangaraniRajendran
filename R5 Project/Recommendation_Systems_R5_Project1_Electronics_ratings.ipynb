{
 "cells": [
  {
   "cell_type": "markdown",
   "metadata": {},
   "source": [
    "# Problem Statement -\n",
    "Build your own recommendation system for products on an e-commerce website like Amazon.com.\n",
    "\n",
    "\n",
    "Dataset - ​ Amazon Reviews data (http://jmcauley.ucsd.edu/data/amazon/) - ratings_Electronics_Ver3.tar.xzView in a new window (you may use winrar application to extract the .csv file)\n",
    "\n",
    "Dataset columns - first three columns are userId, productId, and ratings and the fourth column is timestamp. You can discard the timestamp column as in this case you may not need to use it.\n",
    "\n",
    "\n",
    "o The repository has several datasets. For this case study, please use the Electronics dataset.\n",
    "\n",
    "o The host page has several pointers to scripts and other examples that can help with parsing the datasets.\n",
    "\n",
    "o The data set consists of:\n",
    "\n",
    "    ● 7,824,482 Ratings (1-5) for Electronics products.\n",
    "    ● Other metadata about products. Please see the description of the fields available on the web page cited above.\n",
    "\n",
    "\n",
    "o For convenience of future use, parse the raw data file (using Python, for example) and extract the following fields: 'product/productId' as prod_id, 'product/title' as prod_name, 'review/userId' as user id, 'review/score' as rating\n",
    "\n",
    "o Save these to a tab separated file. Name this file as product_ratings.csv."
   ]
  },
  {
   "cell_type": "code",
   "execution_count": 107,
   "metadata": {},
   "outputs": [],
   "source": [
    "%matplotlib inline\n",
    "\n",
    "import pandas as pd\n",
    "import numpy as np\n",
    "import seaborn as sns\n",
    "import matplotlib.pyplot as plt\n",
    "from sklearn.model_selection import train_test_split\n",
    "\n",
    "import Recommenders as Recommenders\n",
    "import Evaluation as Evaluation\n",
    "\n",
    "import random\n",
    "from sklearn.metrics import mean_squared_error\n",
    "from math import sqrt\n",
    "\n",
    "%config IPCompleter.greedy=True"
   ]
  },
  {
   "cell_type": "markdown",
   "metadata": {},
   "source": [
    "## 1. Read and explore the dataset. (Rename column, plot histograms, find data characteristics)"
   ]
  },
  {
   "cell_type": "code",
   "execution_count": 108,
   "metadata": {},
   "outputs": [],
   "source": [
    "# Load the dataset from csv file\n",
    "ratings_df = pd.read_csv('ratings_Electronics.csv', error_bad_lines=False)\n",
    "\n",
    "# Define the columns\n",
    "ratings_df.columns = ['user_id', 'item_id', 'score', 'timestamp']"
   ]
  },
  {
   "cell_type": "code",
   "execution_count": 109,
   "metadata": {},
   "outputs": [
    {
     "name": "stdout",
     "output_type": "stream",
     "text": [
      "<class 'pandas.core.frame.DataFrame'>\n",
      "RangeIndex: 7824481 entries, 0 to 7824480\n",
      "Data columns (total 4 columns):\n",
      "user_id      object\n",
      "item_id      object\n",
      "score        float64\n",
      "timestamp    int64\n",
      "dtypes: float64(1), int64(1), object(2)\n",
      "memory usage: 238.8+ MB\n",
      "\n",
      " ratings data shape:  (7824481, 4)\n"
     ]
    }
   ],
   "source": [
    "# Explore the datatypes and shape of the dataset\n",
    "ratings_df.info()\n",
    "print (\"\\n ratings data shape: \",  ratings_df.shape)"
   ]
  },
  {
   "cell_type": "code",
   "execution_count": 110,
   "metadata": {
    "scrolled": true
   },
   "outputs": [
    {
     "data": {
      "text/html": [
       "<div>\n",
       "<style scoped>\n",
       "    .dataframe tbody tr th:only-of-type {\n",
       "        vertical-align: middle;\n",
       "    }\n",
       "\n",
       "    .dataframe tbody tr th {\n",
       "        vertical-align: top;\n",
       "    }\n",
       "\n",
       "    .dataframe thead th {\n",
       "        text-align: right;\n",
       "    }\n",
       "</style>\n",
       "<table border=\"1\" class=\"dataframe\">\n",
       "  <thead>\n",
       "    <tr style=\"text-align: right;\">\n",
       "      <th></th>\n",
       "      <th>user_id</th>\n",
       "      <th>item_id</th>\n",
       "      <th>score</th>\n",
       "      <th>timestamp</th>\n",
       "    </tr>\n",
       "  </thead>\n",
       "  <tbody>\n",
       "    <tr>\n",
       "      <th>0</th>\n",
       "      <td>A2CX7LUOHB2NDG</td>\n",
       "      <td>0321732944</td>\n",
       "      <td>5.0</td>\n",
       "      <td>1341100800</td>\n",
       "    </tr>\n",
       "    <tr>\n",
       "      <th>1</th>\n",
       "      <td>A2NWSAGRHCP8N5</td>\n",
       "      <td>0439886341</td>\n",
       "      <td>1.0</td>\n",
       "      <td>1367193600</td>\n",
       "    </tr>\n",
       "    <tr>\n",
       "      <th>2</th>\n",
       "      <td>A2WNBOD3WNDNKT</td>\n",
       "      <td>0439886341</td>\n",
       "      <td>3.0</td>\n",
       "      <td>1374451200</td>\n",
       "    </tr>\n",
       "    <tr>\n",
       "      <th>3</th>\n",
       "      <td>A1GI0U4ZRJA8WN</td>\n",
       "      <td>0439886341</td>\n",
       "      <td>1.0</td>\n",
       "      <td>1334707200</td>\n",
       "    </tr>\n",
       "    <tr>\n",
       "      <th>4</th>\n",
       "      <td>A1QGNMC6O1VW39</td>\n",
       "      <td>0511189877</td>\n",
       "      <td>5.0</td>\n",
       "      <td>1397433600</td>\n",
       "    </tr>\n",
       "  </tbody>\n",
       "</table>\n",
       "</div>"
      ],
      "text/plain": [
       "          user_id     item_id  score   timestamp\n",
       "0  A2CX7LUOHB2NDG  0321732944    5.0  1341100800\n",
       "1  A2NWSAGRHCP8N5  0439886341    1.0  1367193600\n",
       "2  A2WNBOD3WNDNKT  0439886341    3.0  1374451200\n",
       "3  A1GI0U4ZRJA8WN  0439886341    1.0  1334707200\n",
       "4  A1QGNMC6O1VW39  0511189877    5.0  1397433600"
      ]
     },
     "execution_count": 110,
     "metadata": {},
     "output_type": "execute_result"
    }
   ],
   "source": [
    "# Visualize the data by getting the top 5 rows\n",
    "ratings_df.head()"
   ]
  },
  {
   "cell_type": "code",
   "execution_count": 111,
   "metadata": {},
   "outputs": [
    {
     "name": "stdout",
     "output_type": "stream",
     "text": [
      "Count of null values in each feature:\n",
      " user_id      0\n",
      "item_id      0\n",
      "score        0\n",
      "timestamp    0\n",
      "dtype: int64\n"
     ]
    }
   ],
   "source": [
    "# Checking for missing value\n",
    "print (\"Count of null values in each feature:\\n\", ratings_df.isna().sum())"
   ]
  },
  {
   "cell_type": "markdown",
   "metadata": {},
   "source": [
    "#### There are no missing values..."
   ]
  },
  {
   "cell_type": "code",
   "execution_count": 112,
   "metadata": {},
   "outputs": [
    {
     "data": {
      "image/png": "[encoded data removed]",
      "text/plain": [
       "<Figure size 432x288 with 1 Axes>"
      ]
     },
     "metadata": {},
     "output_type": "display_data"
    }
   ],
   "source": [
    "# Visualize the spread of ratings in the dataset\n",
    "plt.hist(ratings_df.score)\n",
    "plt.xlabel = 'Ratings'\n",
    "plt.ylabel = 'Frequency'"
   ]
  },
  {
   "cell_type": "code",
   "execution_count": 145,
   "metadata": {},
   "outputs": [
    {
     "data": {
      "image/png": "[encoded data removed]",
      "text/plain": [
       "<Figure size 432x288 with 1 Axes>"
      ]
     },
     "metadata": {},
     "output_type": "display_data"
    }
   ],
   "source": [
    "sns.countplot(data=ratings_df , x='score')\n",
    "plt.show()"
   ]
  },
  {
   "cell_type": "markdown",
   "metadata": {},
   "source": [
    "#### The more frequency is towards the high ratings. Ratings are not normally distributed."
   ]
  },
  {
   "cell_type": "code",
   "execution_count": 113,
   "metadata": {},
   "outputs": [
    {
     "data": {
      "text/html": [
       "<div>\n",
       "<style scoped>\n",
       "    .dataframe tbody tr th:only-of-type {\n",
       "        vertical-align: middle;\n",
       "    }\n",
       "\n",
       "    .dataframe tbody tr th {\n",
       "        vertical-align: top;\n",
       "    }\n",
       "\n",
       "    .dataframe thead th {\n",
       "        text-align: right;\n",
       "    }\n",
       "</style>\n",
       "<table border=\"1\" class=\"dataframe\">\n",
       "  <thead>\n",
       "    <tr style=\"text-align: right;\">\n",
       "      <th></th>\n",
       "      <th>mean_score</th>\n",
       "    </tr>\n",
       "    <tr>\n",
       "      <th>item_id</th>\n",
       "      <th></th>\n",
       "    </tr>\n",
       "  </thead>\n",
       "  <tbody>\n",
       "    <tr>\n",
       "      <th>0321732944</th>\n",
       "      <td>5.000000</td>\n",
       "    </tr>\n",
       "    <tr>\n",
       "      <th>0439886341</th>\n",
       "      <td>1.666667</td>\n",
       "    </tr>\n",
       "    <tr>\n",
       "      <th>0511189877</th>\n",
       "      <td>4.500000</td>\n",
       "    </tr>\n",
       "    <tr>\n",
       "      <th>0528881469</th>\n",
       "      <td>2.851852</td>\n",
       "    </tr>\n",
       "    <tr>\n",
       "      <th>0558835155</th>\n",
       "      <td>3.000000</td>\n",
       "    </tr>\n",
       "  </tbody>\n",
       "</table>\n",
       "</div>"
      ],
      "text/plain": [
       "            mean_score\n",
       "item_id               \n",
       "0321732944    5.000000\n",
       "0439886341    1.666667\n",
       "0511189877    4.500000\n",
       "0528881469    2.851852\n",
       "0558835155    3.000000"
      ]
     },
     "execution_count": 113,
     "metadata": {},
     "output_type": "execute_result"
    }
   ],
   "source": [
    "# Get the mean ratings for each items and visualize\n",
    "ratings_summary_df = pd.DataFrame()\n",
    "ratings_summary_df['mean_score'] = ratings_df.groupby('item_id')['score'].mean()\n",
    "ratings_summary_df.head()"
   ]
  },
  {
   "cell_type": "code",
   "execution_count": 114,
   "metadata": {},
   "outputs": [
    {
     "data": {
      "image/png": "[encoded data removed]",
      "text/plain": [
       "<Figure size 720x360 with 1 Axes>"
      ]
     },
     "metadata": {},
     "output_type": "display_data"
    }
   ],
   "source": [
    "# Visualize the spread of ratings in the dataset\n",
    "fig = plt.figure(figsize=(10 , 5))\n",
    "plt.hist(ratings_summary_df.mean_score)\n",
    "plt.xlabel = \"Mean Ratings\"\n",
    "plt.ylabe = 'Frequency'\n",
    "plt.show()"
   ]
  },
  {
   "cell_type": "markdown",
   "metadata": {},
   "source": [
    "#### High frequency is towards high rating."
   ]
  },
  {
   "cell_type": "code",
   "execution_count": 115,
   "metadata": {},
   "outputs": [
    {
     "data": {
      "text/html": [
       "<div>\n",
       "<style scoped>\n",
       "    .dataframe tbody tr th:only-of-type {\n",
       "        vertical-align: middle;\n",
       "    }\n",
       "\n",
       "    .dataframe tbody tr th {\n",
       "        vertical-align: top;\n",
       "    }\n",
       "\n",
       "    .dataframe thead th {\n",
       "        text-align: right;\n",
       "    }\n",
       "</style>\n",
       "<table border=\"1\" class=\"dataframe\">\n",
       "  <thead>\n",
       "    <tr style=\"text-align: right;\">\n",
       "      <th></th>\n",
       "      <th>number_of_scores</th>\n",
       "    </tr>\n",
       "    <tr>\n",
       "      <th>user_id</th>\n",
       "      <th></th>\n",
       "    </tr>\n",
       "  </thead>\n",
       "  <tbody>\n",
       "    <tr>\n",
       "      <th>A00000262KYZUE4J55XGL</th>\n",
       "      <td>1</td>\n",
       "    </tr>\n",
       "    <tr>\n",
       "      <th>A000063614T1OE0BUSKUT</th>\n",
       "      <td>2</td>\n",
       "    </tr>\n",
       "    <tr>\n",
       "      <th>A00009182QVLSWIGHLS1B</th>\n",
       "      <td>1</td>\n",
       "    </tr>\n",
       "    <tr>\n",
       "      <th>A00009661LC9LQPGKJ24G</th>\n",
       "      <td>1</td>\n",
       "    </tr>\n",
       "    <tr>\n",
       "      <th>A00010809P09NUU6ZP6H</th>\n",
       "      <td>1</td>\n",
       "    </tr>\n",
       "  </tbody>\n",
       "</table>\n",
       "</div>"
      ],
      "text/plain": [
       "                       number_of_scores\n",
       "user_id                                \n",
       "A00000262KYZUE4J55XGL                 1\n",
       "A000063614T1OE0BUSKUT                 2\n",
       "A00009182QVLSWIGHLS1B                 1\n",
       "A00009661LC9LQPGKJ24G                 1\n",
       "A00010809P09NUU6ZP6H                  1"
      ]
     },
     "execution_count": 115,
     "metadata": {},
     "output_type": "execute_result"
    }
   ],
   "source": [
    "# Get the count of rating given by each users. This will help us to reduce the sparse data by \n",
    "# eliminating users who have not rated any items or less items\n",
    "User_summary_df = pd.DataFrame()\n",
    "User_summary_df['number_of_scores'] = ratings_df.groupby('user_id')['score'].count()\n",
    "User_summary_df.head()"
   ]
  },
  {
   "cell_type": "code",
   "execution_count": 116,
   "metadata": {},
   "outputs": [
    {
     "data": {
      "text/plain": [
       "array([  1,   2,   4,   3,   6,   7,   5,   8,  10,   9,  11,  12,  21,\n",
       "        14,  19,  15,  13,  18,  17,  25, 116, 132,  20,  22,  16,  26,\n",
       "        27,  24,  23,  32,  68,  71,  38,  36,  35,  30,  40,  34,  65,\n",
       "        39,  33,  41,  31,  28,  57,  96,  80, 107,  46, 123,  77, 130,\n",
       "        52,  29,  89,  37, 112,  67,  86,  66,  45,  75, 205,  58,  50,\n",
       "       216,  43,  92,  54,  49,  64,  51, 252,  42,  72,  81,  44,  74,\n",
       "        47,  53,  48,  62,  70, 104, 102,  60,  63, 157,  99,  56,  55,\n",
       "        61, 261, 151,  94,  78, 119,  83,  73, 144, 177, 149, 106,  82,\n",
       "        69, 108, 196,  76, 221, 197, 200, 155, 208, 207, 181, 160, 213,\n",
       "        59, 103,  85,  98, 145, 218,  84, 101,  91, 100,  88, 114,  79,\n",
       "        93, 131, 142, 380,  90,  95, 126, 110, 105,  97, 167, 227, 128,\n",
       "       127, 247, 129, 220, 121,  87, 202, 109, 156, 111, 162, 240, 125,\n",
       "       137, 150, 292, 270, 115, 226, 296, 311, 176, 170, 122, 117, 159,\n",
       "       277, 238, 120, 253, 138, 171, 136, 314, 282, 236, 257, 204, 146,\n",
       "       124, 174, 279, 118, 199, 209, 498, 266, 143, 169, 134, 173, 147,\n",
       "       182, 163, 180, 153, 225, 520, 406, 431, 193, 139, 501, 239, 244,\n",
       "       192, 141, 198, 212, 308, 168, 189], dtype=int64)"
      ]
     },
     "execution_count": 116,
     "metadata": {},
     "output_type": "execute_result"
    }
   ],
   "source": [
    "User_summary_df['number_of_scores'].unique()"
   ]
  },
  {
   "cell_type": "code",
   "execution_count": 117,
   "metadata": {},
   "outputs": [
    {
     "data": {
      "text/plain": [
       "(0, 10000)"
      ]
     },
     "execution_count": 117,
     "metadata": {},
     "output_type": "execute_result"
    },
    {
     "data": {
      "image/png": "[encoded data removed]",
      "text/plain": [
       "<Figure size 432x288 with 1 Axes>"
      ]
     },
     "metadata": {},
     "output_type": "display_data"
    }
   ],
   "source": [
    "# Visualize the user ratings count.\n",
    "plt.hist(User_summary_df.number_of_scores, bins=2000)\n",
    "plt.xlabel = 'Users: No. of scores'\n",
    "plt.ylabel = 'Frequency'\n",
    "plt.xlim(xmin=0, xmax = 200)\n",
    "plt.ylim(ymin=0, ymax = 10000)"
   ]
  },
  {
   "cell_type": "markdown",
   "metadata": {},
   "source": [
    "#### We have more users who have not rated any items or rated less items (< 50)."
   ]
  },
  {
   "cell_type": "markdown",
   "metadata": {},
   "source": [
    "## Observations:\n",
    "\n",
    "### We have very sparse data (7824481 rows).\n",
    "### UserID and itemID are alphanumeric. If needed we can convert it to category.\n",
    "### timestamp column will not be of use for our evaluation here. So we can drop it.\n",
    "### We have more data with higher ratings.\n",
    "### We have more users who have not rated any items or rated less items."
   ]
  },
  {
   "cell_type": "markdown",
   "metadata": {},
   "source": [
    "## 2. Take subset of dataset to make it less sparse/more dense. (For example, keep the users only who has given 50 or more number of ratings )"
   ]
  },
  {
   "cell_type": "code",
   "execution_count": 118,
   "metadata": {},
   "outputs": [
    {
     "name": "stdout",
     "output_type": "stream",
     "text": [
      "1540\n",
      "4200156\n"
     ]
    }
   ],
   "source": [
    "# Get the count of user who have rated more than 49 ratings\n",
    "print (len(User_summary_df[User_summary_df.number_of_scores >= 50]))\n",
    "print (len(User_summary_df[User_summary_df.number_of_scores < 50]))"
   ]
  },
  {
   "cell_type": "code",
   "execution_count": 119,
   "metadata": {},
   "outputs": [
    {
     "data": {
      "text/plain": [
       "Index(['A100UD67AHFODS', 'A100WO06OQR8BQ', 'A105S56ODHGJEK', 'A105TOJ6LTVMBG',\n",
       "       'A10AFVU66A79Y1', 'A10H24TDLK2VDP', 'A10NMELR4KX0J6', 'A10O7THJ2O20AG',\n",
       "       'A10PEXB6XAQ5XF', 'A10X9ME6R66JDX',\n",
       "       ...\n",
       "       'AYOTEJ617O60K', 'AYP0YPLSP9ISM', 'AZ515FFZ7I2P7', 'AZ8XSDMIX04VJ',\n",
       "       'AZAC8O310IK4E', 'AZBXKUH4AIW3X', 'AZCE11PSTCH1L', 'AZMY6E8B52L2T',\n",
       "       'AZNUHQSHZHSUE', 'AZOK5STV85FBJ'],\n",
       "      dtype='object', name='user_id', length=1540)"
      ]
     },
     "execution_count": 119,
     "metadata": {},
     "output_type": "execute_result"
    }
   ],
   "source": [
    "# Get the users who have rated >= 50 items.\n",
    "Users_df = User_summary_df[User_summary_df.number_of_scores >= 50]\n",
    "Users_df.index"
   ]
  },
  {
   "cell_type": "code",
   "execution_count": 120,
   "metadata": {
    "scrolled": true
   },
   "outputs": [
    {
     "data": {
      "text/plain": [
       "(125871, 4)"
      ]
     },
     "execution_count": 120,
     "metadata": {},
     "output_type": "execute_result"
    }
   ],
   "source": [
    "# Have only users who have rated >=50 for our prediction and evaluation.\n",
    "ratings_subset_df = ratings_df.loc[(ratings_df['user_id'].isin(Users_df.index))]\n",
    "ratings_subset_df.shape"
   ]
  },
  {
   "cell_type": "code",
   "execution_count": 121,
   "metadata": {},
   "outputs": [
    {
     "name": "stderr",
     "output_type": "stream",
     "text": [
      "C:\\Users\\Iyyappan\\Anaconda3\\lib\\site-packages\\pandas\\core\\frame.py:3694: SettingWithCopyWarning: \n",
      "A value is trying to be set on a copy of a slice from a DataFrame\n",
      "\n",
      "See the caveats in the documentation: http://pandas.pydata.org/pandas-docs/stable/indexing.html#indexing-view-versus-copy\n",
      "  errors=errors)\n"
     ]
    }
   ],
   "source": [
    "# Drop the timestamp column as we will not be using in our predictions\n",
    "ratings_subset_df.drop('timestamp', axis = 1, inplace = True)"
   ]
  },
  {
   "cell_type": "markdown",
   "metadata": {},
   "source": [
    "## Observations:\n",
    "\n",
    "### We have created the subset of data to reduce the sparseness by droping the users who have rated <50 items."
   ]
  },
  {
   "cell_type": "markdown",
   "metadata": {},
   "source": [
    "## 3. Split the data randomly into train and test dataset. (For example split it in 70/30 ratio)"
   ]
  },
  {
   "cell_type": "code",
   "execution_count": 122,
   "metadata": {},
   "outputs": [
    {
     "name": "stdout",
     "output_type": "stream",
     "text": [
      "                user_id     item_id  score\n",
      "5993537   ANW6EGY12V5XS  B007ZW43IQ    4.0\n",
      "4459174  A1QVFHPY8418HC  B004T9Y0MW    5.0\n",
      "2177399   ALDAF4VVLFRHP  B001NOG2T0    4.0\n",
      "232286   A11YIHB6IW352W  B00007KDVI    5.0\n",
      "7811982  A3PD8JD9L4WEII  B00JGSWU7S    5.0\n"
     ]
    }
   ],
   "source": [
    "# Lets split the data to Train, Test\n",
    "train_data, test_data = train_test_split(ratings_subset_df, test_size = 0.30, random_state=100)\n",
    "print(train_data.head(5))"
   ]
  },
  {
   "cell_type": "code",
   "execution_count": 123,
   "metadata": {},
   "outputs": [],
   "source": [
    "# Lets have the splitted test data also in the training set without any ratings. \n",
    "# This will help us in the evaluation later.\n",
    "\n",
    "# Get the copy of test data.\n",
    "TempTest = test_data.copy()\n",
    "\n",
    "# remove all the ratings in the test data copy.\n",
    "TempTest.rating = np.nan"
   ]
  },
  {
   "cell_type": "code",
   "execution_count": 124,
   "metadata": {},
   "outputs": [],
   "source": [
    "# Drop all the nan values in test data.\n",
    "test_data = test_data.dropna()\n",
    "\n",
    "# Merge the training and temp test data (without ratings)\n",
    "train_data = pd.concat([train_data, TempTest])"
   ]
  },
  {
   "cell_type": "markdown",
   "metadata": {},
   "source": [
    "## Observations:\n",
    "\n",
    "### We have splitted the data into train and test (70:30)\n",
    "### But we have merged the test data (without ratings) with the training data to help us in evaluation later.\n",
    "### If the above step is not done, we might miss predictions and evaluation for some users and items."
   ]
  },
  {
   "cell_type": "markdown",
   "metadata": {},
   "source": [
    "## 4. Build Popularity Recommender model."
   ]
  },
  {
   "cell_type": "code",
   "execution_count": 125,
   "metadata": {},
   "outputs": [],
   "source": [
    "# Used the seperate module recommender.py\n",
    "pm = Recommenders.popularity_recommender_py()\n",
    "pm.create(train_data, 'user_id', 'item_id')"
   ]
  },
  {
   "cell_type": "code",
   "execution_count": 126,
   "metadata": {},
   "outputs": [],
   "source": [
    "# Get the unique users in train dataset to get recommendation for users.\n",
    "train_users = train_data['user_id'].unique()"
   ]
  },
  {
   "cell_type": "code",
   "execution_count": 127,
   "metadata": {},
   "outputs": [
    {
     "data": {
      "text/html": [
       "<div>\n",
       "<style scoped>\n",
       "    .dataframe tbody tr th:only-of-type {\n",
       "        vertical-align: middle;\n",
       "    }\n",
       "\n",
       "    .dataframe tbody tr th {\n",
       "        vertical-align: top;\n",
       "    }\n",
       "\n",
       "    .dataframe thead th {\n",
       "        text-align: right;\n",
       "    }\n",
       "</style>\n",
       "<table border=\"1\" class=\"dataframe\">\n",
       "  <thead>\n",
       "    <tr style=\"text-align: right;\">\n",
       "      <th></th>\n",
       "      <th>user_id</th>\n",
       "      <th>item_id</th>\n",
       "      <th>score</th>\n",
       "      <th>Rank</th>\n",
       "    </tr>\n",
       "  </thead>\n",
       "  <tbody>\n",
       "    <tr>\n",
       "      <th>0</th>\n",
       "      <td>A27TN8D0CZ8LUY</td>\n",
       "      <td>0594451647</td>\n",
       "      <td>5.0</td>\n",
       "      <td>1.0</td>\n",
       "    </tr>\n",
       "    <tr>\n",
       "      <th>5</th>\n",
       "      <td>A27TN8D0CZ8LUY</td>\n",
       "      <td>1400501520</td>\n",
       "      <td>5.0</td>\n",
       "      <td>2.0</td>\n",
       "    </tr>\n",
       "    <tr>\n",
       "      <th>12</th>\n",
       "      <td>A27TN8D0CZ8LUY</td>\n",
       "      <td>1400699169</td>\n",
       "      <td>5.0</td>\n",
       "      <td>3.0</td>\n",
       "    </tr>\n",
       "    <tr>\n",
       "      <th>13</th>\n",
       "      <td>A27TN8D0CZ8LUY</td>\n",
       "      <td>1685560148</td>\n",
       "      <td>5.0</td>\n",
       "      <td>4.0</td>\n",
       "    </tr>\n",
       "    <tr>\n",
       "      <th>14</th>\n",
       "      <td>A27TN8D0CZ8LUY</td>\n",
       "      <td>3744295508</td>\n",
       "      <td>5.0</td>\n",
       "      <td>5.0</td>\n",
       "    </tr>\n",
       "    <tr>\n",
       "      <th>16</th>\n",
       "      <td>A27TN8D0CZ8LUY</td>\n",
       "      <td>787988002X</td>\n",
       "      <td>5.0</td>\n",
       "      <td>6.0</td>\n",
       "    </tr>\n",
       "    <tr>\n",
       "      <th>17</th>\n",
       "      <td>A27TN8D0CZ8LUY</td>\n",
       "      <td>8862935307</td>\n",
       "      <td>5.0</td>\n",
       "      <td>7.0</td>\n",
       "    </tr>\n",
       "    <tr>\n",
       "      <th>21</th>\n",
       "      <td>A27TN8D0CZ8LUY</td>\n",
       "      <td>9573212919</td>\n",
       "      <td>5.0</td>\n",
       "      <td>8.0</td>\n",
       "    </tr>\n",
       "    <tr>\n",
       "      <th>23</th>\n",
       "      <td>A27TN8D0CZ8LUY</td>\n",
       "      <td>9800359788</td>\n",
       "      <td>5.0</td>\n",
       "      <td>9.0</td>\n",
       "    </tr>\n",
       "    <tr>\n",
       "      <th>26</th>\n",
       "      <td>A27TN8D0CZ8LUY</td>\n",
       "      <td>9981739588</td>\n",
       "      <td>5.0</td>\n",
       "      <td>10.0</td>\n",
       "    </tr>\n",
       "  </tbody>\n",
       "</table>\n",
       "</div>"
      ],
      "text/plain": [
       "           user_id     item_id  score  Rank\n",
       "0   A27TN8D0CZ8LUY  0594451647    5.0   1.0\n",
       "5   A27TN8D0CZ8LUY  1400501520    5.0   2.0\n",
       "12  A27TN8D0CZ8LUY  1400699169    5.0   3.0\n",
       "13  A27TN8D0CZ8LUY  1685560148    5.0   4.0\n",
       "14  A27TN8D0CZ8LUY  3744295508    5.0   5.0\n",
       "16  A27TN8D0CZ8LUY  787988002X    5.0   6.0\n",
       "17  A27TN8D0CZ8LUY  8862935307    5.0   7.0\n",
       "21  A27TN8D0CZ8LUY  9573212919    5.0   8.0\n",
       "23  A27TN8D0CZ8LUY  9800359788    5.0   9.0\n",
       "26  A27TN8D0CZ8LUY  9981739588    5.0  10.0"
      ]
     },
     "execution_count": 127,
     "metadata": {},
     "output_type": "execute_result"
    }
   ],
   "source": [
    "# Get top 10 recommendation for a user.\n",
    "pm.recommend(train_users[7]).head(10)"
   ]
  },
  {
   "cell_type": "code",
   "execution_count": 128,
   "metadata": {},
   "outputs": [
    {
     "data": {
      "text/html": [
       "<div>\n",
       "<style scoped>\n",
       "    .dataframe tbody tr th:only-of-type {\n",
       "        vertical-align: middle;\n",
       "    }\n",
       "\n",
       "    .dataframe tbody tr th {\n",
       "        vertical-align: top;\n",
       "    }\n",
       "\n",
       "    .dataframe thead th {\n",
       "        text-align: right;\n",
       "    }\n",
       "</style>\n",
       "<table border=\"1\" class=\"dataframe\">\n",
       "  <thead>\n",
       "    <tr style=\"text-align: right;\">\n",
       "      <th></th>\n",
       "      <th>user_id</th>\n",
       "      <th>item_id</th>\n",
       "      <th>score</th>\n",
       "      <th>Rank</th>\n",
       "    </tr>\n",
       "  </thead>\n",
       "  <tbody>\n",
       "    <tr>\n",
       "      <th>0</th>\n",
       "      <td>A1PVX61PRPVX27</td>\n",
       "      <td>0594451647</td>\n",
       "      <td>5.0</td>\n",
       "      <td>1.0</td>\n",
       "    </tr>\n",
       "    <tr>\n",
       "      <th>5</th>\n",
       "      <td>A1PVX61PRPVX27</td>\n",
       "      <td>1400501520</td>\n",
       "      <td>5.0</td>\n",
       "      <td>2.0</td>\n",
       "    </tr>\n",
       "    <tr>\n",
       "      <th>12</th>\n",
       "      <td>A1PVX61PRPVX27</td>\n",
       "      <td>1400699169</td>\n",
       "      <td>5.0</td>\n",
       "      <td>3.0</td>\n",
       "    </tr>\n",
       "    <tr>\n",
       "      <th>13</th>\n",
       "      <td>A1PVX61PRPVX27</td>\n",
       "      <td>1685560148</td>\n",
       "      <td>5.0</td>\n",
       "      <td>4.0</td>\n",
       "    </tr>\n",
       "    <tr>\n",
       "      <th>14</th>\n",
       "      <td>A1PVX61PRPVX27</td>\n",
       "      <td>3744295508</td>\n",
       "      <td>5.0</td>\n",
       "      <td>5.0</td>\n",
       "    </tr>\n",
       "    <tr>\n",
       "      <th>16</th>\n",
       "      <td>A1PVX61PRPVX27</td>\n",
       "      <td>787988002X</td>\n",
       "      <td>5.0</td>\n",
       "      <td>6.0</td>\n",
       "    </tr>\n",
       "    <tr>\n",
       "      <th>17</th>\n",
       "      <td>A1PVX61PRPVX27</td>\n",
       "      <td>8862935307</td>\n",
       "      <td>5.0</td>\n",
       "      <td>7.0</td>\n",
       "    </tr>\n",
       "    <tr>\n",
       "      <th>21</th>\n",
       "      <td>A1PVX61PRPVX27</td>\n",
       "      <td>9573212919</td>\n",
       "      <td>5.0</td>\n",
       "      <td>8.0</td>\n",
       "    </tr>\n",
       "    <tr>\n",
       "      <th>23</th>\n",
       "      <td>A1PVX61PRPVX27</td>\n",
       "      <td>9800359788</td>\n",
       "      <td>5.0</td>\n",
       "      <td>9.0</td>\n",
       "    </tr>\n",
       "    <tr>\n",
       "      <th>26</th>\n",
       "      <td>A1PVX61PRPVX27</td>\n",
       "      <td>9981739588</td>\n",
       "      <td>5.0</td>\n",
       "      <td>10.0</td>\n",
       "    </tr>\n",
       "  </tbody>\n",
       "</table>\n",
       "</div>"
      ],
      "text/plain": [
       "           user_id     item_id  score  Rank\n",
       "0   A1PVX61PRPVX27  0594451647    5.0   1.0\n",
       "5   A1PVX61PRPVX27  1400501520    5.0   2.0\n",
       "12  A1PVX61PRPVX27  1400699169    5.0   3.0\n",
       "13  A1PVX61PRPVX27  1685560148    5.0   4.0\n",
       "14  A1PVX61PRPVX27  3744295508    5.0   5.0\n",
       "16  A1PVX61PRPVX27  787988002X    5.0   6.0\n",
       "17  A1PVX61PRPVX27  8862935307    5.0   7.0\n",
       "21  A1PVX61PRPVX27  9573212919    5.0   8.0\n",
       "23  A1PVX61PRPVX27  9800359788    5.0   9.0\n",
       "26  A1PVX61PRPVX27  9981739588    5.0  10.0"
      ]
     },
     "execution_count": 128,
     "metadata": {},
     "output_type": "execute_result"
    }
   ],
   "source": [
    "# Get top 10 recommendation for a user.\n",
    "pm.recommend(train_users[234]).head(10)"
   ]
  },
  {
   "cell_type": "code",
   "execution_count": 129,
   "metadata": {},
   "outputs": [],
   "source": [
    "# Funtion to get mean RMSE for the Popularity Recommender model for random 10 users in test data.\n",
    "def GetpmRMSE():\n",
    "    # As the prediction is going to be same for all the users, lets have the commen predicted DataFram.\n",
    "    \n",
    "    uuid = test_data['user_id'].unique()\n",
    "    rand_uuid = random.sample(list(uuid), 10)\n",
    "    arr_RMSE = []\n",
    "    RMSE = -1\n",
    "    for ruid in rand_uuid:\n",
    "        #print (ruid)\n",
    "        UserPred = pm.recommend(ruid)\n",
    "        #print (\"UIID: \" + str(len(UserPred)))\n",
    "        Actual = test_data[test_data.user_id == ruid]\n",
    "        UserPred = UserPred[UserPred['item_id'].isin(Actual['item_id'].unique())]\n",
    "        Actual = Actual[Actual['item_id'].isin(UserPred['item_id'].unique())]\n",
    "        uiid = Actual['item_id'].unique()\n",
    "        #print (\"UIID: \" + str(len(uiid)))\n",
    "        if len(uiid) > 0:\n",
    "            arr_Actual = []\n",
    "            arr_Pred = []\n",
    "            score = 0\n",
    "            error = 0\n",
    "            for uid in uiid:\n",
    "                score = Actual[Actual.item_id == uid]['score']\n",
    "                arr_Actual.append(score.values[0])\n",
    "                score = UserPred[UserPred.item_id == uid]['score']\n",
    "                arr_Pred.append(score.values[0])\n",
    "                error = sqrt(mean_squared_error(arr_Actual, arr_Pred))\n",
    "                arr_RMSE.append(error)\n",
    "                #print (error)\n",
    "    RMSE = np.average(arr_RMSE)\n",
    "    return RMSE"
   ]
  },
  {
   "cell_type": "markdown",
   "metadata": {},
   "source": [
    "## Observations:\n",
    "\n",
    "### We can see same set of recommendation for all the users as this model is not user specific.\n",
    "### This model gives recommendations based on popularity of the item.\n",
    "### Lets calculate the accuracy and compare with Collaborative model in the upcoming steps."
   ]
  },
  {
   "cell_type": "markdown",
   "metadata": {},
   "source": [
    "## 5. Build Collaborative Filtering model."
   ]
  },
  {
   "cell_type": "markdown",
   "metadata": {},
   "source": [
    "#### surprise toolkit is used for Collaborative Filtering model."
   ]
  },
  {
   "cell_type": "code",
   "execution_count": 130,
   "metadata": {},
   "outputs": [],
   "source": [
    "# Import all the necessary surprise toolkit modules...\n",
    "\n",
    "from __future__ import (absolute_import, division, print_function,\n",
    "                        unicode_literals)\n",
    "\n",
    "from surprise import KNNWithMeans\n",
    "from surprise import Dataset\n",
    "from surprise import Reader\n",
    "from surprise import accuracy\n",
    "from surprise.model_selection import train_test_split"
   ]
  },
  {
   "cell_type": "code",
   "execution_count": 131,
   "metadata": {},
   "outputs": [],
   "source": [
    "# Lets load the dataset as per the requirement for surprise module\n",
    "reader = Reader(rating_scale = (1,5))\n",
    "data = Dataset.load_from_df(ratings_subset_df, reader = reader)"
   ]
  },
  {
   "cell_type": "code",
   "execution_count": 132,
   "metadata": {},
   "outputs": [],
   "source": [
    "# Lets split the train and test with surprise model functionality\n",
    "trainset, testset = train_test_split(data, test_size=.3)"
   ]
  },
  {
   "cell_type": "code",
   "execution_count": 133,
   "metadata": {},
   "outputs": [
    {
     "name": "stdout",
     "output_type": "stream",
     "text": [
      "Estimating biases using als...\n",
      "Computing the pearson_baseline similarity matrix...\n",
      "Done computing similarity matrix.\n"
     ]
    },
    {
     "data": {
      "text/plain": [
       "<surprise.prediction_algorithms.knns.KNNWithMeans at 0x15b11f8b0f0>"
      ]
     },
     "execution_count": 133,
     "metadata": {},
     "output_type": "execute_result"
    }
   ],
   "source": [
    "# Lets go with KNN algorithm\n",
    "algo = KNNWithMeans(k=50, sim_options={'name': 'pearson_baseline', 'user_based': True})\n",
    "\n",
    "# Train the model with train dataset\n",
    "algo.fit(data.build_full_trainset())"
   ]
  },
  {
   "cell_type": "code",
   "execution_count": 134,
   "metadata": {},
   "outputs": [],
   "source": [
    "# This function gives the top N predictions for the users based on collaborative filtering model.\n",
    "def predictItem(uid, N=10):\n",
    "    #Get the list of item id's already rated by the user.\n",
    "    iidUsr = ratings_subset_df.loc[ratings_subset_df['user_id'] == uid, 'item_id']\n",
    "    #Remove the item id's already rated by the user\n",
    "    iids_to_pred = np.setdiff1d(itemIDs,iidUsr)\n",
    "    testpredict = [[uid, iid, 4.] for iid in iids_to_pred]\n",
    "    pred = algo.test(testpredict)\n",
    "    pred_df = pd.DataFrame(pred)\n",
    "    SortedPred = pd.DataFrame()\n",
    "    SortedPred['iid'] = pred_df['iid']\n",
    "    SortedPred['est'] = pred_df['est']\n",
    "    SortedPred.sort_values(by = 'est', inplace= True, ascending=False)\n",
    "    print (\"Top {} item predictions for the user {}:\".format(N, uid) )\n",
    "    print (SortedPred.head(N))"
   ]
  },
  {
   "cell_type": "code",
   "execution_count": 135,
   "metadata": {},
   "outputs": [
    {
     "name": "stdout",
     "output_type": "stream",
     "text": [
      "Top 10 item predictions for the user A2OT3PDH1AWLTG:\n",
      "              iid  est\n",
      "38561  B00829THVO  5.0\n",
      "43090  B00B7Y7PQU  5.0\n",
      "14295  B0013CED4I  5.0\n",
      "17365  B001IWX9A2  5.0\n",
      "33814  B005IN09GO  5.0\n",
      "8181   B000E5E868  5.0\n",
      "32376  B0055EB9LK  5.0\n",
      "45227  B00DVFLJDS  5.0\n",
      "21890  B002QGDWLK  5.0\n",
      "33809  B005IMFX2K  5.0\n"
     ]
    }
   ],
   "source": [
    "#Lets predict top 5 recommendation for some user\n",
    "predictItem('A2OT3PDH1AWLTG', 10)"
   ]
  },
  {
   "cell_type": "code",
   "execution_count": 136,
   "metadata": {},
   "outputs": [
    {
     "name": "stdout",
     "output_type": "stream",
     "text": [
      "Top 10 item predictions for the user ABMF4UC4Z00NT:\n",
      "              iid  est\n",
      "19317  B001XUR5FO  5.0\n",
      "41762  B009YKTR06  5.0\n",
      "19488  B00243HHNY  5.0\n",
      "6683   B000922KLQ  5.0\n",
      "46381  B00FW3KZNM  5.0\n",
      "6677   B00091R6KC  5.0\n",
      "29514  B004HYG9V4  5.0\n",
      "1793   B00006B12C  5.0\n",
      "29505  B004HW7KF0  5.0\n",
      "6647   B00085FGVU  5.0\n"
     ]
    }
   ],
   "source": [
    "predictItem(train_users[100], 10)"
   ]
  },
  {
   "cell_type": "code",
   "execution_count": 137,
   "metadata": {},
   "outputs": [
    {
     "name": "stdout",
     "output_type": "stream",
     "text": [
      "user: A2NYOY6H42SORF item: B003XIM3QK r_ui = 4.00   est = 2.00   {'actual_k': 1, 'was_impossible': False}\n"
     ]
    },
    {
     "data": {
      "text/plain": [
       "Prediction(uid='A2NYOY6H42SORF', iid='B003XIM3QK', r_ui=4, est=2.0, details={'actual_k': 1, 'was_impossible': False})"
      ]
     },
     "execution_count": 137,
     "metadata": {},
     "output_type": "execute_result"
    }
   ],
   "source": [
    "#To get the item specific rating for a user\n",
    "algo.predict('A2NYOY6H42SORF', 'B003XIM3QK', r_ui=4, verbose=True)"
   ]
  },
  {
   "cell_type": "code",
   "execution_count": 138,
   "metadata": {},
   "outputs": [],
   "source": [
    "# Get all unique item id's in the dataset\n",
    "#itemIDs = ratings_subset_df['item_id'].unique()"
   ]
  },
  {
   "cell_type": "markdown",
   "metadata": {},
   "source": [
    "## Observations:\n",
    "\n",
    "### Differnt recommendations are given for different users, as Collaborative Filtering model is based on user preferrences unlike Popularity Model.\n",
    "### Lets calculate the RMSE on test set and compare with Popularity model."
   ]
  },
  {
   "cell_type": "markdown",
   "metadata": {},
   "source": [
    "## 6. Evaluate both the models. (Once the model is trained on the training data, it can be used to compute the error (RMSE) on predictions made on the test data.)"
   ]
  },
  {
   "cell_type": "code",
   "execution_count": 139,
   "metadata": {},
   "outputs": [
    {
     "name": "stdout",
     "output_type": "stream",
     "text": [
      "Popularity Model RMSE:  0.5485657558964333\n"
     ]
    }
   ],
   "source": [
    "# Evaluation for Popularity Model.\n",
    "\n",
    "# This function will get the predictions for 10 random users in test dataset and will calculate the RMSE.\n",
    "print(\"Popularity Model RMSE: \", GetpmRMSE())"
   ]
  },
  {
   "cell_type": "code",
   "execution_count": 140,
   "metadata": {},
   "outputs": [
    {
     "name": "stdout",
     "output_type": "stream",
     "text": [
      "RMSE: 0.0330\n",
      "Collaborative Model RMSE:  0.03299205624118519\n"
     ]
    }
   ],
   "source": [
    "# Evaluation for Collaborative Filtering Model.\n",
    "\n",
    "# Lets predict for test data and get the RMSE for the prediction.\n",
    "predictions = algo.test(testset)                                           \n",
    "print (\"Collaborative Model RMSE: \", accuracy.rmse(predictions))"
   ]
  },
  {
   "cell_type": "markdown",
   "metadata": {},
   "source": [
    "## Observations:\n",
    "\n",
    "### Collaborative model have given the better accuracy (less error) than Popularity Model.\n",
    "### As Collaborative model is based on user/item charecteristics, it will be more accurate than Popularity Model."
   ]
  },
  {
   "cell_type": "markdown",
   "metadata": {},
   "source": [
    "## 7. Get top - K (K = 5) recommendations. Since our goal is to recommend new products to each user based on his/her habits,we will recommend 5 new products."
   ]
  },
  {
   "cell_type": "code",
   "execution_count": 141,
   "metadata": {},
   "outputs": [],
   "source": [
    "# Get unique users in the dataset.\n",
    "Users = ratings_subset_df['user_id'].unique()"
   ]
  },
  {
   "cell_type": "code",
   "execution_count": 142,
   "metadata": {},
   "outputs": [
    {
     "data": {
      "text/html": [
       "<div>\n",
       "<style scoped>\n",
       "    .dataframe tbody tr th:only-of-type {\n",
       "        vertical-align: middle;\n",
       "    }\n",
       "\n",
       "    .dataframe tbody tr th {\n",
       "        vertical-align: top;\n",
       "    }\n",
       "\n",
       "    .dataframe thead th {\n",
       "        text-align: right;\n",
       "    }\n",
       "</style>\n",
       "<table border=\"1\" class=\"dataframe\">\n",
       "  <thead>\n",
       "    <tr style=\"text-align: right;\">\n",
       "      <th></th>\n",
       "      <th>user_id</th>\n",
       "      <th>item_id</th>\n",
       "      <th>score</th>\n",
       "      <th>Rank</th>\n",
       "    </tr>\n",
       "  </thead>\n",
       "  <tbody>\n",
       "    <tr>\n",
       "      <th>0</th>\n",
       "      <td>A1J75JJ0Q2OEJN</td>\n",
       "      <td>0594451647</td>\n",
       "      <td>5.0</td>\n",
       "      <td>1.0</td>\n",
       "    </tr>\n",
       "    <tr>\n",
       "      <th>5</th>\n",
       "      <td>A1J75JJ0Q2OEJN</td>\n",
       "      <td>1400501520</td>\n",
       "      <td>5.0</td>\n",
       "      <td>2.0</td>\n",
       "    </tr>\n",
       "    <tr>\n",
       "      <th>12</th>\n",
       "      <td>A1J75JJ0Q2OEJN</td>\n",
       "      <td>1400699169</td>\n",
       "      <td>5.0</td>\n",
       "      <td>3.0</td>\n",
       "    </tr>\n",
       "    <tr>\n",
       "      <th>13</th>\n",
       "      <td>A1J75JJ0Q2OEJN</td>\n",
       "      <td>1685560148</td>\n",
       "      <td>5.0</td>\n",
       "      <td>4.0</td>\n",
       "    </tr>\n",
       "    <tr>\n",
       "      <th>14</th>\n",
       "      <td>A1J75JJ0Q2OEJN</td>\n",
       "      <td>3744295508</td>\n",
       "      <td>5.0</td>\n",
       "      <td>5.0</td>\n",
       "    </tr>\n",
       "  </tbody>\n",
       "</table>\n",
       "</div>"
      ],
      "text/plain": [
       "           user_id     item_id  score  Rank\n",
       "0   A1J75JJ0Q2OEJN  0594451647    5.0   1.0\n",
       "5   A1J75JJ0Q2OEJN  1400501520    5.0   2.0\n",
       "12  A1J75JJ0Q2OEJN  1400699169    5.0   3.0\n",
       "13  A1J75JJ0Q2OEJN  1685560148    5.0   4.0\n",
       "14  A1J75JJ0Q2OEJN  3744295508    5.0   5.0"
      ]
     },
     "execution_count": 142,
     "metadata": {},
     "output_type": "execute_result"
    }
   ],
   "source": [
    "# Top 5 recommendation using Popularity Model\n",
    "pm.recommend(Users[115]).head(5)"
   ]
  },
  {
   "cell_type": "code",
   "execution_count": 143,
   "metadata": {},
   "outputs": [
    {
     "name": "stdout",
     "output_type": "stream",
     "text": [
      "Top 5 item predictions for the user A1J75JJ0Q2OEJN:\n",
      "              iid  est\n",
      "46876  B00HA236FC  5.0\n",
      "40852  B009CP99GK  5.0\n",
      "18847  B001TIHVHC  5.0\n",
      "7595   B000BI6AH8  5.0\n",
      "561    B00004WCFT  5.0\n"
     ]
    }
   ],
   "source": [
    "# Top 5 recommendation using Collaborative Filtering Model\n",
    "predictItem(Users[115], 5)"
   ]
  },
  {
   "cell_type": "markdown",
   "metadata": {},
   "source": [
    "## 8. Summarize your insights."
   ]
  },
  {
   "cell_type": "markdown",
   "metadata": {},
   "source": [
    "### Popularity Model gives similar recommendation to all users.\n",
    "### It is based on popularity of the items rather than user specific.\n",
    "### Collaborative Model gives user specific recommendations as it considers user/item characteristics to recommend similar products.\n",
    "### So Collaborative Filtering model will give precise recommendation than Popularity Model. It was evident with the RMSE scores of each models."
   ]
  },
  {
   "cell_type": "code",
   "execution_count": null,
   "metadata": {},
   "outputs": [],
   "source": []
  }
 ],
 "metadata": {
  "kernelspec": {
   "display_name": "Python 3",
   "language": "python",
   "name": "python3"
  },
  "language_info": {
   "codemirror_mode": {
    "name": "ipython",
    "version": 3
   },
   "file_extension": ".py",
   "mimetype": "text/x-python",
   "name": "python",
   "nbconvert_exporter": "python",
   "pygments_lexer": "ipython3",
   "version": "3.6.5"
  }
 },
 "nbformat": 4,
 "nbformat_minor": 1
}
