{
 "cells": [
  {
   "cell_type": "markdown",
   "metadata": {},
   "source": [
    "**About Book Crossing Dataset**<br>\n",
    "\n",
    "This dataset has been compiled by Cai-Nicolas Ziegler in 2004, and it comprises of three tables for users, books and ratings. Explicit ratings are expressed on a scale from 1-10 (higher values denoting higher appreciation) and implicit rating is expressed by 0."
   ]
  },
  {
   "cell_type": "markdown",
   "metadata": {},
   "source": [
    "Reference: http://www2.informatik.uni-freiburg.de/~cziegler/BX/ "
   ]
  },
  {
   "cell_type": "markdown",
   "metadata": {},
   "source": [
    "**Objective**\n",
    "\n",
    "This project entails building a Book Recommender System for users based on user-based and item-based collaborative filtering approaches."
   ]
  },
  {
   "cell_type": "markdown",
   "metadata": {},
   "source": [
    "#### Execute the below cell to load the datasets"
   ]
  },
  {
   "cell_type": "code",
   "execution_count": 2,
   "metadata": {},
   "outputs": [],
   "source": [
    "%matplotlib inline\n",
    "\n",
    "import pandas as pd\n",
    "import numpy as np\n",
    "import seaborn as sns\n",
    "import sklearn.metrics as metrics\n",
    "import matplotlib.pyplot as plt\n",
    "from sklearn.model_selection import train_test_split\n",
    "from sklearn.metrics import pairwise_distances\n",
    "from sklearn.metrics import mean_squared_error\n",
    "from math import sqrt\n",
    "from sklearn.neighbors import NearestNeighbors\n",
    "from scipy.spatial.distance import correlation, cosine\n",
    "from contextlib import contextmanager\n",
    "import sys, os\n",
    "\n",
    "import Recommenders as Recommenders\n",
    "import Evaluation as Evaluation\n",
    "\n",
    "%config IPCompleter.greedy=True"
   ]
  },
  {
   "cell_type": "markdown",
   "metadata": {},
   "source": [
    "## 1. Read and explore the dataset. (Rename column, plot histograms, find data characteristics)"
   ]
  },
  {
   "cell_type": "code",
   "execution_count": 3,
   "metadata": {},
   "outputs": [],
   "source": [
    "ratings_df = pd.read_csv('ratings_Electronics.csv', error_bad_lines=False)\n",
    "ratings_df.columns = ['user_id', 'item_id', 'score', 'timestamp']"
   ]
  },
  {
   "cell_type": "code",
   "execution_count": 4,
   "metadata": {
    "scrolled": true
   },
   "outputs": [
    {
     "data": {
      "text/html": [
       "<div>\n",
       "<style scoped>\n",
       "    .dataframe tbody tr th:only-of-type {\n",
       "        vertical-align: middle;\n",
       "    }\n",
       "\n",
       "    .dataframe tbody tr th {\n",
       "        vertical-align: top;\n",
       "    }\n",
       "\n",
       "    .dataframe thead th {\n",
       "        text-align: right;\n",
       "    }\n",
       "</style>\n",
       "<table border=\"1\" class=\"dataframe\">\n",
       "  <thead>\n",
       "    <tr style=\"text-align: right;\">\n",
       "      <th></th>\n",
       "      <th>user_id</th>\n",
       "      <th>item_id</th>\n",
       "      <th>score</th>\n",
       "      <th>timestamp</th>\n",
       "    </tr>\n",
       "  </thead>\n",
       "  <tbody>\n",
       "    <tr>\n",
       "      <th>0</th>\n",
       "      <td>A2CX7LUOHB2NDG</td>\n",
       "      <td>0321732944</td>\n",
       "      <td>5.0</td>\n",
       "      <td>1341100800</td>\n",
       "    </tr>\n",
       "    <tr>\n",
       "      <th>1</th>\n",
       "      <td>A2NWSAGRHCP8N5</td>\n",
       "      <td>0439886341</td>\n",
       "      <td>1.0</td>\n",
       "      <td>1367193600</td>\n",
       "    </tr>\n",
       "    <tr>\n",
       "      <th>2</th>\n",
       "      <td>A2WNBOD3WNDNKT</td>\n",
       "      <td>0439886341</td>\n",
       "      <td>3.0</td>\n",
       "      <td>1374451200</td>\n",
       "    </tr>\n",
       "    <tr>\n",
       "      <th>3</th>\n",
       "      <td>A1GI0U4ZRJA8WN</td>\n",
       "      <td>0439886341</td>\n",
       "      <td>1.0</td>\n",
       "      <td>1334707200</td>\n",
       "    </tr>\n",
       "    <tr>\n",
       "      <th>4</th>\n",
       "      <td>A1QGNMC6O1VW39</td>\n",
       "      <td>0511189877</td>\n",
       "      <td>5.0</td>\n",
       "      <td>1397433600</td>\n",
       "    </tr>\n",
       "  </tbody>\n",
       "</table>\n",
       "</div>"
      ],
      "text/plain": [
       "          user_id     item_id  score   timestamp\n",
       "0  A2CX7LUOHB2NDG  0321732944    5.0  1341100800\n",
       "1  A2NWSAGRHCP8N5  0439886341    1.0  1367193600\n",
       "2  A2WNBOD3WNDNKT  0439886341    3.0  1374451200\n",
       "3  A1GI0U4ZRJA8WN  0439886341    1.0  1334707200\n",
       "4  A1QGNMC6O1VW39  0511189877    5.0  1397433600"
      ]
     },
     "execution_count": 4,
     "metadata": {},
     "output_type": "execute_result"
    }
   ],
   "source": [
    "ratings_df.head()"
   ]
  },
  {
   "cell_type": "code",
   "execution_count": 5,
   "metadata": {},
   "outputs": [
    {
     "name": "stdout",
     "output_type": "stream",
     "text": [
      "Count of null values in each feature:\n",
      " user_id      0\n",
      "item_id      0\n",
      "score        0\n",
      "timestamp    0\n",
      "dtype: int64\n"
     ]
    }
   ],
   "source": [
    "# Checking for missing value \n",
    "print (\"Count of null values in each feature:\\n\", ratings_df.isna().sum())"
   ]
  },
  {
   "cell_type": "code",
   "execution_count": 6,
   "metadata": {},
   "outputs": [
    {
     "data": {
      "image/png": "[encoded data removed]",
      "text/plain": [
       "<Figure size 432x288 with 1 Axes>"
      ]
     },
     "metadata": {},
     "output_type": "display_data"
    }
   ],
   "source": [
    "plt.hist(ratings_df.score)\n",
    "plt.xlabel = 'Ratings'\n",
    "plt.ylabel = 'Frequency'"
   ]
  },
  {
   "cell_type": "code",
   "execution_count": 7,
   "metadata": {},
   "outputs": [
    {
     "data": {
      "text/html": [
       "<div>\n",
       "<style scoped>\n",
       "    .dataframe tbody tr th:only-of-type {\n",
       "        vertical-align: middle;\n",
       "    }\n",
       "\n",
       "    .dataframe tbody tr th {\n",
       "        vertical-align: top;\n",
       "    }\n",
       "\n",
       "    .dataframe thead th {\n",
       "        text-align: right;\n",
       "    }\n",
       "</style>\n",
       "<table border=\"1\" class=\"dataframe\">\n",
       "  <thead>\n",
       "    <tr style=\"text-align: right;\">\n",
       "      <th></th>\n",
       "      <th>mean_score</th>\n",
       "    </tr>\n",
       "    <tr>\n",
       "      <th>item_id</th>\n",
       "      <th></th>\n",
       "    </tr>\n",
       "  </thead>\n",
       "  <tbody>\n",
       "    <tr>\n",
       "      <th>0321732944</th>\n",
       "      <td>5.000000</td>\n",
       "    </tr>\n",
       "    <tr>\n",
       "      <th>0439886341</th>\n",
       "      <td>1.666667</td>\n",
       "    </tr>\n",
       "    <tr>\n",
       "      <th>0511189877</th>\n",
       "      <td>4.500000</td>\n",
       "    </tr>\n",
       "    <tr>\n",
       "      <th>0528881469</th>\n",
       "      <td>2.851852</td>\n",
       "    </tr>\n",
       "    <tr>\n",
       "      <th>0558835155</th>\n",
       "      <td>3.000000</td>\n",
       "    </tr>\n",
       "  </tbody>\n",
       "</table>\n",
       "</div>"
      ],
      "text/plain": [
       "            mean_score\n",
       "item_id               \n",
       "0321732944    5.000000\n",
       "0439886341    1.666667\n",
       "0511189877    4.500000\n",
       "0528881469    2.851852\n",
       "0558835155    3.000000"
      ]
     },
     "execution_count": 7,
     "metadata": {},
     "output_type": "execute_result"
    }
   ],
   "source": [
    "ratings_summary_df = pd.DataFrame()\n",
    "ratings_summary_df['mean_score'] = ratings_df.groupby('item_id')['score'].mean()\n",
    "ratings_summary_df.head()"
   ]
  },
  {
   "cell_type": "code",
   "execution_count": 8,
   "metadata": {},
   "outputs": [
    {
     "data": {
      "text/html": [
       "<div>\n",
       "<style scoped>\n",
       "    .dataframe tbody tr th:only-of-type {\n",
       "        vertical-align: middle;\n",
       "    }\n",
       "\n",
       "    .dataframe tbody tr th {\n",
       "        vertical-align: top;\n",
       "    }\n",
       "\n",
       "    .dataframe thead th {\n",
       "        text-align: right;\n",
       "    }\n",
       "</style>\n",
       "<table border=\"1\" class=\"dataframe\">\n",
       "  <thead>\n",
       "    <tr style=\"text-align: right;\">\n",
       "      <th></th>\n",
       "      <th>mean_score</th>\n",
       "      <th>number_of_scores</th>\n",
       "    </tr>\n",
       "    <tr>\n",
       "      <th>item_id</th>\n",
       "      <th></th>\n",
       "      <th></th>\n",
       "    </tr>\n",
       "  </thead>\n",
       "  <tbody>\n",
       "    <tr>\n",
       "      <th>0321732944</th>\n",
       "      <td>5.000000</td>\n",
       "      <td>1</td>\n",
       "    </tr>\n",
       "    <tr>\n",
       "      <th>0439886341</th>\n",
       "      <td>1.666667</td>\n",
       "      <td>3</td>\n",
       "    </tr>\n",
       "    <tr>\n",
       "      <th>0511189877</th>\n",
       "      <td>4.500000</td>\n",
       "      <td>6</td>\n",
       "    </tr>\n",
       "    <tr>\n",
       "      <th>0528881469</th>\n",
       "      <td>2.851852</td>\n",
       "      <td>27</td>\n",
       "    </tr>\n",
       "    <tr>\n",
       "      <th>0558835155</th>\n",
       "      <td>3.000000</td>\n",
       "      <td>1</td>\n",
       "    </tr>\n",
       "  </tbody>\n",
       "</table>\n",
       "</div>"
      ],
      "text/plain": [
       "            mean_score  number_of_scores\n",
       "item_id                                 \n",
       "0321732944    5.000000                 1\n",
       "0439886341    1.666667                 3\n",
       "0511189877    4.500000                 6\n",
       "0528881469    2.851852                27\n",
       "0558835155    3.000000                 1"
      ]
     },
     "execution_count": 8,
     "metadata": {},
     "output_type": "execute_result"
    }
   ],
   "source": [
    "ratings_summary_df['number_of_scores'] = ratings_df.groupby('item_id')['score'].count()\n",
    "ratings_summary_df.head()"
   ]
  },
  {
   "cell_type": "code",
   "execution_count": 9,
   "metadata": {},
   "outputs": [
    {
     "data": {
      "text/plain": [
       "<matplotlib.axes._subplots.AxesSubplot at 0x20c85447048>"
      ]
     },
     "execution_count": 9,
     "metadata": {},
     "output_type": "execute_result"
    },
    {
     "data": {
      "image/png": "[encoded data removed]",
      "text/plain": [
       "<Figure size 432x288 with 1 Axes>"
      ]
     },
     "metadata": {},
     "output_type": "display_data"
    }
   ],
   "source": [
    "ratings_summary_df['mean_score'].hist(bins = 70) "
   ]
  },
  {
   "cell_type": "code",
   "execution_count": 10,
   "metadata": {},
   "outputs": [
    {
     "data": {
      "text/html": [
       "<div>\n",
       "<style scoped>\n",
       "    .dataframe tbody tr th:only-of-type {\n",
       "        vertical-align: middle;\n",
       "    }\n",
       "\n",
       "    .dataframe tbody tr th {\n",
       "        vertical-align: top;\n",
       "    }\n",
       "\n",
       "    .dataframe thead th {\n",
       "        text-align: right;\n",
       "    }\n",
       "</style>\n",
       "<table border=\"1\" class=\"dataframe\">\n",
       "  <thead>\n",
       "    <tr style=\"text-align: right;\">\n",
       "      <th></th>\n",
       "      <th>mean_score</th>\n",
       "      <th>number_of_scores</th>\n",
       "    </tr>\n",
       "    <tr>\n",
       "      <th>item_id</th>\n",
       "      <th></th>\n",
       "      <th></th>\n",
       "    </tr>\n",
       "  </thead>\n",
       "  <tbody>\n",
       "    <tr>\n",
       "      <th>B004WL7YUC</th>\n",
       "      <td>4.0</td>\n",
       "      <td>1</td>\n",
       "    </tr>\n",
       "    <tr>\n",
       "      <th>B004WL8K4Q</th>\n",
       "      <td>5.0</td>\n",
       "      <td>1</td>\n",
       "    </tr>\n",
       "    <tr>\n",
       "      <th>B004WL8L6I</th>\n",
       "      <td>4.0</td>\n",
       "      <td>1</td>\n",
       "    </tr>\n",
       "    <tr>\n",
       "      <th>B004WL8LHW</th>\n",
       "      <td>1.0</td>\n",
       "      <td>1</td>\n",
       "    </tr>\n",
       "    <tr>\n",
       "      <th>B004WL90KY</th>\n",
       "      <td>5.0</td>\n",
       "      <td>1</td>\n",
       "    </tr>\n",
       "    <tr>\n",
       "      <th>B004WL91KI</th>\n",
       "      <td>4.0</td>\n",
       "      <td>1</td>\n",
       "    </tr>\n",
       "    <tr>\n",
       "      <th>B004WL9FK4</th>\n",
       "      <td>1.0</td>\n",
       "      <td>1</td>\n",
       "    </tr>\n",
       "    <tr>\n",
       "      <th>B004WL9Q2Q</th>\n",
       "      <td>4.0</td>\n",
       "      <td>1</td>\n",
       "    </tr>\n",
       "    <tr>\n",
       "      <th>B004WL9R8O</th>\n",
       "      <td>5.0</td>\n",
       "      <td>1</td>\n",
       "    </tr>\n",
       "    <tr>\n",
       "      <th>BT008V9J9U</th>\n",
       "      <td>5.0</td>\n",
       "      <td>1</td>\n",
       "    </tr>\n",
       "  </tbody>\n",
       "</table>\n",
       "</div>"
      ],
      "text/plain": [
       "            mean_score  number_of_scores\n",
       "item_id                                 \n",
       "B004WL7YUC         4.0                 1\n",
       "B004WL8K4Q         5.0                 1\n",
       "B004WL8L6I         4.0                 1\n",
       "B004WL8LHW         1.0                 1\n",
       "B004WL90KY         5.0                 1\n",
       "B004WL91KI         4.0                 1\n",
       "B004WL9FK4         1.0                 1\n",
       "B004WL9Q2Q         4.0                 1\n",
       "B004WL9R8O         5.0                 1\n",
       "BT008V9J9U         5.0                 1"
      ]
     },
     "execution_count": 10,
     "metadata": {},
     "output_type": "execute_result"
    }
   ],
   "source": [
    "ratings_summary_df.sort_values('number_of_scores', ascending=False).tail(10)"
   ]
  },
  {
   "cell_type": "code",
   "execution_count": 11,
   "metadata": {},
   "outputs": [
    {
     "data": {
      "text/html": [
       "<div>\n",
       "<style scoped>\n",
       "    .dataframe tbody tr th:only-of-type {\n",
       "        vertical-align: middle;\n",
       "    }\n",
       "\n",
       "    .dataframe tbody tr th {\n",
       "        vertical-align: top;\n",
       "    }\n",
       "\n",
       "    .dataframe thead th {\n",
       "        text-align: right;\n",
       "    }\n",
       "</style>\n",
       "<table border=\"1\" class=\"dataframe\">\n",
       "  <thead>\n",
       "    <tr style=\"text-align: right;\">\n",
       "      <th></th>\n",
       "      <th>number_of_scores</th>\n",
       "    </tr>\n",
       "    <tr>\n",
       "      <th>user_id</th>\n",
       "      <th></th>\n",
       "    </tr>\n",
       "  </thead>\n",
       "  <tbody>\n",
       "    <tr>\n",
       "      <th>A00000262KYZUE4J55XGL</th>\n",
       "      <td>1</td>\n",
       "    </tr>\n",
       "    <tr>\n",
       "      <th>A000063614T1OE0BUSKUT</th>\n",
       "      <td>2</td>\n",
       "    </tr>\n",
       "    <tr>\n",
       "      <th>A00009182QVLSWIGHLS1B</th>\n",
       "      <td>1</td>\n",
       "    </tr>\n",
       "    <tr>\n",
       "      <th>A00009661LC9LQPGKJ24G</th>\n",
       "      <td>1</td>\n",
       "    </tr>\n",
       "    <tr>\n",
       "      <th>A00010809P09NUU6ZP6H</th>\n",
       "      <td>1</td>\n",
       "    </tr>\n",
       "  </tbody>\n",
       "</table>\n",
       "</div>"
      ],
      "text/plain": [
       "                       number_of_scores\n",
       "user_id                                \n",
       "A00000262KYZUE4J55XGL                 1\n",
       "A000063614T1OE0BUSKUT                 2\n",
       "A00009182QVLSWIGHLS1B                 1\n",
       "A00009661LC9LQPGKJ24G                 1\n",
       "A00010809P09NUU6ZP6H                  1"
      ]
     },
     "execution_count": 11,
     "metadata": {},
     "output_type": "execute_result"
    }
   ],
   "source": [
    "User_summary_df = pd.DataFrame()\n",
    "User_summary_df['number_of_scores'] = ratings_df.groupby('user_id')['score'].count()\n",
    "User_summary_df.head()"
   ]
  },
  {
   "cell_type": "code",
   "execution_count": 12,
   "metadata": {},
   "outputs": [
    {
     "data": {
      "text/plain": [
       "array([  1,   2,   4,   3,   6,   7,   5,   8,  10,   9,  11,  12,  21,\n",
       "        14,  19,  15,  13,  18,  17,  25, 116, 132,  20,  22,  16,  26,\n",
       "        27,  24,  23,  32,  68,  71,  38,  36,  35,  30,  40,  34,  65,\n",
       "        39,  33,  41,  31,  28,  57,  96,  80, 107,  46, 123,  77, 130,\n",
       "        52,  29,  89,  37, 112,  67,  86,  66,  45,  75, 205,  58,  50,\n",
       "       216,  43,  92,  54,  49,  64,  51, 252,  42,  72,  81,  44,  74,\n",
       "        47,  53,  48,  62,  70, 104, 102,  60,  63, 157,  99,  56,  55,\n",
       "        61, 261, 151,  94,  78, 119,  83,  73, 144, 177, 149, 106,  82,\n",
       "        69, 108, 196,  76, 221, 197, 200, 155, 208, 207, 181, 160, 213,\n",
       "        59, 103,  85,  98, 145, 218,  84, 101,  91, 100,  88, 114,  79,\n",
       "        93, 131, 142, 380,  90,  95, 126, 110, 105,  97, 167, 227, 128,\n",
       "       127, 247, 129, 220, 121,  87, 202, 109, 156, 111, 162, 240, 125,\n",
       "       137, 150, 292, 270, 115, 226, 296, 311, 176, 170, 122, 117, 159,\n",
       "       277, 238, 120, 253, 138, 171, 136, 314, 282, 236, 257, 204, 146,\n",
       "       124, 174, 279, 118, 199, 209, 498, 266, 143, 169, 134, 173, 147,\n",
       "       182, 163, 180, 153, 225, 520, 406, 431, 193, 139, 501, 239, 244,\n",
       "       192, 141, 198, 212, 308, 168, 189], dtype=int64)"
      ]
     },
     "execution_count": 12,
     "metadata": {},
     "output_type": "execute_result"
    }
   ],
   "source": [
    "User_summary_df['number_of_scores'].unique()"
   ]
  },
  {
   "cell_type": "code",
   "execution_count": 13,
   "metadata": {},
   "outputs": [
    {
     "data": {
      "text/plain": [
       "(0, 10000)"
      ]
     },
     "execution_count": 13,
     "metadata": {},
     "output_type": "execute_result"
    },
    {
     "data": {
      "image/png": "[encoded data removed]",
      "text/plain": [
       "<Figure size 432x288 with 1 Axes>"
      ]
     },
     "metadata": {},
     "output_type": "display_data"
    }
   ],
   "source": [
    "plt.hist(User_summary_df.number_of_scores, bins=2000)\n",
    "plt.xlabel = 'Users: No. of scores'\n",
    "plt.ylabel = 'Frequency'\n",
    "plt.xlim(xmin=0, xmax = 200)\n",
    "plt.ylim(ymin=0, ymax = 10000)"
   ]
  },
  {
   "cell_type": "markdown",
   "metadata": {},
   "source": [
    "## 2. Take subset of dataset to make it less sparse/more dense. (For example, keep the users only who has given 50 or more number of ratings )"
   ]
  },
  {
   "cell_type": "code",
   "execution_count": 14,
   "metadata": {},
   "outputs": [
    {
     "name": "stdout",
     "output_type": "stream",
     "text": [
      "1540\n",
      "4200156\n"
     ]
    }
   ],
   "source": [
    "# Get the count of user who have rated more than 49 ratings\n",
    "print (len(User_summary_df[User_summary_df.number_of_scores >= 50]))\n",
    "print (len(User_summary_df[User_summary_df.number_of_scores < 50]))"
   ]
  },
  {
   "cell_type": "code",
   "execution_count": 15,
   "metadata": {},
   "outputs": [
    {
     "data": {
      "text/plain": [
       "Index(['A100UD67AHFODS', 'A100WO06OQR8BQ', 'A105S56ODHGJEK', 'A105TOJ6LTVMBG',\n",
       "       'A10AFVU66A79Y1', 'A10H24TDLK2VDP', 'A10NMELR4KX0J6', 'A10O7THJ2O20AG',\n",
       "       'A10PEXB6XAQ5XF', 'A10X9ME6R66JDX',\n",
       "       ...\n",
       "       'AYOTEJ617O60K', 'AYP0YPLSP9ISM', 'AZ515FFZ7I2P7', 'AZ8XSDMIX04VJ',\n",
       "       'AZAC8O310IK4E', 'AZBXKUH4AIW3X', 'AZCE11PSTCH1L', 'AZMY6E8B52L2T',\n",
       "       'AZNUHQSHZHSUE', 'AZOK5STV85FBJ'],\n",
       "      dtype='object', name='user_id', length=1540)"
      ]
     },
     "execution_count": 15,
     "metadata": {},
     "output_type": "execute_result"
    }
   ],
   "source": [
    "Users_df = User_summary_df[User_summary_df.number_of_scores >= 50]\n",
    "Users_df.index"
   ]
  },
  {
   "cell_type": "code",
   "execution_count": 16,
   "metadata": {},
   "outputs": [
    {
     "data": {
      "text/plain": [
       "(125871, 4)"
      ]
     },
     "execution_count": 16,
     "metadata": {},
     "output_type": "execute_result"
    }
   ],
   "source": [
    "ratings_subset_df = ratings_df.loc[(ratings_df['user_id'].isin(Users_df.index))]\n",
    "ratings_subset_df.shape"
   ]
  },
  {
   "cell_type": "code",
   "execution_count": 17,
   "metadata": {},
   "outputs": [
    {
     "name": "stderr",
     "output_type": "stream",
     "text": [
      "C:\\Users\\Iyyappan\\Anaconda3\\lib\\site-packages\\pandas\\core\\frame.py:3694: SettingWithCopyWarning: \n",
      "A value is trying to be set on a copy of a slice from a DataFrame\n",
      "\n",
      "See the caveats in the documentation: http://pandas.pydata.org/pandas-docs/stable/indexing.html#indexing-view-versus-copy\n",
      "  errors=errors)\n"
     ]
    }
   ],
   "source": [
    "ratings_subset_df.drop('timestamp', axis = 1, inplace = True)"
   ]
  },
  {
   "cell_type": "code",
   "execution_count": 18,
   "metadata": {},
   "outputs": [
    {
     "data": {
      "text/html": [
       "<div>\n",
       "<style scoped>\n",
       "    .dataframe tbody tr th:only-of-type {\n",
       "        vertical-align: middle;\n",
       "    }\n",
       "\n",
       "    .dataframe tbody tr th {\n",
       "        vertical-align: top;\n",
       "    }\n",
       "\n",
       "    .dataframe thead th {\n",
       "        text-align: right;\n",
       "    }\n",
       "</style>\n",
       "<table border=\"1\" class=\"dataframe\">\n",
       "  <thead>\n",
       "    <tr style=\"text-align: right;\">\n",
       "      <th></th>\n",
       "      <th>user_id</th>\n",
       "      <th>item_id</th>\n",
       "      <th>score</th>\n",
       "    </tr>\n",
       "  </thead>\n",
       "  <tbody>\n",
       "    <tr>\n",
       "      <th>93</th>\n",
       "      <td>A3BY5KCNQZXV5U</td>\n",
       "      <td>0594451647</td>\n",
       "      <td>5.0</td>\n",
       "    </tr>\n",
       "    <tr>\n",
       "      <th>117</th>\n",
       "      <td>AT09WGFUM934H</td>\n",
       "      <td>0594481813</td>\n",
       "      <td>3.0</td>\n",
       "    </tr>\n",
       "    <tr>\n",
       "      <th>176</th>\n",
       "      <td>A32HSNCNPRUMTR</td>\n",
       "      <td>0970407998</td>\n",
       "      <td>1.0</td>\n",
       "    </tr>\n",
       "    <tr>\n",
       "      <th>177</th>\n",
       "      <td>A17HMM1M7T9PJ1</td>\n",
       "      <td>0970407998</td>\n",
       "      <td>4.0</td>\n",
       "    </tr>\n",
       "    <tr>\n",
       "      <th>491</th>\n",
       "      <td>A3CLWR1UUZT6TG</td>\n",
       "      <td>0972683275</td>\n",
       "      <td>5.0</td>\n",
       "    </tr>\n",
       "  </tbody>\n",
       "</table>\n",
       "</div>"
      ],
      "text/plain": [
       "            user_id     item_id  score\n",
       "93   A3BY5KCNQZXV5U  0594451647    5.0\n",
       "117   AT09WGFUM934H  0594481813    3.0\n",
       "176  A32HSNCNPRUMTR  0970407998    1.0\n",
       "177  A17HMM1M7T9PJ1  0970407998    4.0\n",
       "491  A3CLWR1UUZT6TG  0972683275    5.0"
      ]
     },
     "execution_count": 18,
     "metadata": {},
     "output_type": "execute_result"
    }
   ],
   "source": [
    "ratings_subset_df.head()"
   ]
  },
  {
   "cell_type": "markdown",
   "metadata": {},
   "source": [
    "## 3. Split the data randomly into train and test dataset. (For example split it in 70/30 ratio)"
   ]
  },
  {
   "cell_type": "code",
   "execution_count": 19,
   "metadata": {},
   "outputs": [
    {
     "name": "stdout",
     "output_type": "stream",
     "text": [
      "                user_id     item_id  score\n",
      "5993537   ANW6EGY12V5XS  B007ZW43IQ    4.0\n",
      "4459174  A1QVFHPY8418HC  B004T9Y0MW    5.0\n",
      "2177399   ALDAF4VVLFRHP  B001NOG2T0    4.0\n",
      "232286   A11YIHB6IW352W  B00007KDVI    5.0\n",
      "7811982  A3PD8JD9L4WEII  B00JGSWU7S    5.0\n"
     ]
    }
   ],
   "source": [
    "# Lets split the data to Train, Test\n",
    "train_data, test_data = train_test_split(ratings_subset_df, test_size = 0.30, random_state=100)\n",
    "print(train_data.head(5))"
   ]
  },
  {
   "cell_type": "code",
   "execution_count": 20,
   "metadata": {},
   "outputs": [
    {
     "name": "stdout",
     "output_type": "stream",
     "text": [
      "<class 'pandas.core.frame.DataFrame'>\n",
      "Int64Index: 88109 entries, 5993537 to 2136394\n",
      "Data columns (total 3 columns):\n",
      "user_id    88109 non-null object\n",
      "item_id    88109 non-null object\n",
      "score      88109 non-null float64\n",
      "dtypes: float64(1), object(2)\n",
      "memory usage: 2.7+ MB\n"
     ]
    }
   ],
   "source": [
    "train_data.info()"
   ]
  },
  {
   "cell_type": "code",
   "execution_count": 21,
   "metadata": {},
   "outputs": [],
   "source": [
    "# Get the unique user_id and have it in a list \n",
    "train_users = train_data['user_id'].unique()\n",
    "train_items = train_data['item_id'].unique()\n",
    "test_users = test_data['user_id'].unique()\n",
    "test_items = test_data['item_id'].unique()"
   ]
  },
  {
   "cell_type": "markdown",
   "metadata": {},
   "source": [
    "## 4. Build Popularity Recommender model."
   ]
  },
  {
   "cell_type": "code",
   "execution_count": 22,
   "metadata": {},
   "outputs": [],
   "source": [
    "pm = Recommenders.popularity_recommender_py()\n",
    "pm.create(train_data, 'user_id', 'item_id')"
   ]
  },
  {
   "cell_type": "code",
   "execution_count": 23,
   "metadata": {},
   "outputs": [
    {
     "data": {
      "text/html": [
       "<div>\n",
       "<style scoped>\n",
       "    .dataframe tbody tr th:only-of-type {\n",
       "        vertical-align: middle;\n",
       "    }\n",
       "\n",
       "    .dataframe tbody tr th {\n",
       "        vertical-align: top;\n",
       "    }\n",
       "\n",
       "    .dataframe thead th {\n",
       "        text-align: right;\n",
       "    }\n",
       "</style>\n",
       "<table border=\"1\" class=\"dataframe\">\n",
       "  <thead>\n",
       "    <tr style=\"text-align: right;\">\n",
       "      <th></th>\n",
       "      <th>user_id</th>\n",
       "      <th>item_id</th>\n",
       "      <th>score</th>\n",
       "      <th>Rank</th>\n",
       "    </tr>\n",
       "  </thead>\n",
       "  <tbody>\n",
       "    <tr>\n",
       "      <th>2</th>\n",
       "      <td>A3H4S6YO9VNGDZ</td>\n",
       "      <td>0972683275</td>\n",
       "      <td>5.0</td>\n",
       "      <td>1.0</td>\n",
       "    </tr>\n",
       "    <tr>\n",
       "      <th>4</th>\n",
       "      <td>A3H4S6YO9VNGDZ</td>\n",
       "      <td>1400501520</td>\n",
       "      <td>5.0</td>\n",
       "      <td>2.0</td>\n",
       "    </tr>\n",
       "    <tr>\n",
       "      <th>5</th>\n",
       "      <td>A3H4S6YO9VNGDZ</td>\n",
       "      <td>1400501776</td>\n",
       "      <td>5.0</td>\n",
       "      <td>3.0</td>\n",
       "    </tr>\n",
       "    <tr>\n",
       "      <th>7</th>\n",
       "      <td>A3H4S6YO9VNGDZ</td>\n",
       "      <td>1400532655</td>\n",
       "      <td>5.0</td>\n",
       "      <td>4.0</td>\n",
       "    </tr>\n",
       "    <tr>\n",
       "      <th>11</th>\n",
       "      <td>A3H4S6YO9VNGDZ</td>\n",
       "      <td>3744295508</td>\n",
       "      <td>5.0</td>\n",
       "      <td>5.0</td>\n",
       "    </tr>\n",
       "    <tr>\n",
       "      <th>13</th>\n",
       "      <td>A3H4S6YO9VNGDZ</td>\n",
       "      <td>8862935307</td>\n",
       "      <td>5.0</td>\n",
       "      <td>6.0</td>\n",
       "    </tr>\n",
       "    <tr>\n",
       "      <th>17</th>\n",
       "      <td>A3H4S6YO9VNGDZ</td>\n",
       "      <td>9573212919</td>\n",
       "      <td>5.0</td>\n",
       "      <td>7.0</td>\n",
       "    </tr>\n",
       "    <tr>\n",
       "      <th>19</th>\n",
       "      <td>A3H4S6YO9VNGDZ</td>\n",
       "      <td>9800359788</td>\n",
       "      <td>5.0</td>\n",
       "      <td>8.0</td>\n",
       "    </tr>\n",
       "    <tr>\n",
       "      <th>22</th>\n",
       "      <td>A3H4S6YO9VNGDZ</td>\n",
       "      <td>9981739588</td>\n",
       "      <td>5.0</td>\n",
       "      <td>9.0</td>\n",
       "    </tr>\n",
       "    <tr>\n",
       "      <th>24</th>\n",
       "      <td>A3H4S6YO9VNGDZ</td>\n",
       "      <td>9984922626</td>\n",
       "      <td>5.0</td>\n",
       "      <td>10.0</td>\n",
       "    </tr>\n",
       "  </tbody>\n",
       "</table>\n",
       "</div>"
      ],
      "text/plain": [
       "           user_id     item_id  score  Rank\n",
       "2   A3H4S6YO9VNGDZ  0972683275    5.0   1.0\n",
       "4   A3H4S6YO9VNGDZ  1400501520    5.0   2.0\n",
       "5   A3H4S6YO9VNGDZ  1400501776    5.0   3.0\n",
       "7   A3H4S6YO9VNGDZ  1400532655    5.0   4.0\n",
       "11  A3H4S6YO9VNGDZ  3744295508    5.0   5.0\n",
       "13  A3H4S6YO9VNGDZ  8862935307    5.0   6.0\n",
       "17  A3H4S6YO9VNGDZ  9573212919    5.0   7.0\n",
       "19  A3H4S6YO9VNGDZ  9800359788    5.0   8.0\n",
       "22  A3H4S6YO9VNGDZ  9981739588    5.0   9.0\n",
       "24  A3H4S6YO9VNGDZ  9984922626    5.0  10.0"
      ]
     },
     "execution_count": 23,
     "metadata": {},
     "output_type": "execute_result"
    }
   ],
   "source": [
    "pm.recommend(train_users[5])"
   ]
  },
  {
   "cell_type": "code",
   "execution_count": 24,
   "metadata": {},
   "outputs": [
    {
     "data": {
      "text/html": [
       "<div>\n",
       "<style scoped>\n",
       "    .dataframe tbody tr th:only-of-type {\n",
       "        vertical-align: middle;\n",
       "    }\n",
       "\n",
       "    .dataframe tbody tr th {\n",
       "        vertical-align: top;\n",
       "    }\n",
       "\n",
       "    .dataframe thead th {\n",
       "        text-align: right;\n",
       "    }\n",
       "</style>\n",
       "<table border=\"1\" class=\"dataframe\">\n",
       "  <thead>\n",
       "    <tr style=\"text-align: right;\">\n",
       "      <th></th>\n",
       "      <th>user_id</th>\n",
       "      <th>item_id</th>\n",
       "      <th>score</th>\n",
       "      <th>Rank</th>\n",
       "    </tr>\n",
       "  </thead>\n",
       "  <tbody>\n",
       "    <tr>\n",
       "      <th>2</th>\n",
       "      <td>A27TN8D0CZ8LUY</td>\n",
       "      <td>0972683275</td>\n",
       "      <td>5.0</td>\n",
       "      <td>1.0</td>\n",
       "    </tr>\n",
       "    <tr>\n",
       "      <th>4</th>\n",
       "      <td>A27TN8D0CZ8LUY</td>\n",
       "      <td>1400501520</td>\n",
       "      <td>5.0</td>\n",
       "      <td>2.0</td>\n",
       "    </tr>\n",
       "    <tr>\n",
       "      <th>5</th>\n",
       "      <td>A27TN8D0CZ8LUY</td>\n",
       "      <td>1400501776</td>\n",
       "      <td>5.0</td>\n",
       "      <td>3.0</td>\n",
       "    </tr>\n",
       "    <tr>\n",
       "      <th>7</th>\n",
       "      <td>A27TN8D0CZ8LUY</td>\n",
       "      <td>1400532655</td>\n",
       "      <td>5.0</td>\n",
       "      <td>4.0</td>\n",
       "    </tr>\n",
       "    <tr>\n",
       "      <th>11</th>\n",
       "      <td>A27TN8D0CZ8LUY</td>\n",
       "      <td>3744295508</td>\n",
       "      <td>5.0</td>\n",
       "      <td>5.0</td>\n",
       "    </tr>\n",
       "    <tr>\n",
       "      <th>13</th>\n",
       "      <td>A27TN8D0CZ8LUY</td>\n",
       "      <td>8862935307</td>\n",
       "      <td>5.0</td>\n",
       "      <td>6.0</td>\n",
       "    </tr>\n",
       "    <tr>\n",
       "      <th>17</th>\n",
       "      <td>A27TN8D0CZ8LUY</td>\n",
       "      <td>9573212919</td>\n",
       "      <td>5.0</td>\n",
       "      <td>7.0</td>\n",
       "    </tr>\n",
       "    <tr>\n",
       "      <th>19</th>\n",
       "      <td>A27TN8D0CZ8LUY</td>\n",
       "      <td>9800359788</td>\n",
       "      <td>5.0</td>\n",
       "      <td>8.0</td>\n",
       "    </tr>\n",
       "    <tr>\n",
       "      <th>22</th>\n",
       "      <td>A27TN8D0CZ8LUY</td>\n",
       "      <td>9981739588</td>\n",
       "      <td>5.0</td>\n",
       "      <td>9.0</td>\n",
       "    </tr>\n",
       "    <tr>\n",
       "      <th>24</th>\n",
       "      <td>A27TN8D0CZ8LUY</td>\n",
       "      <td>9984922626</td>\n",
       "      <td>5.0</td>\n",
       "      <td>10.0</td>\n",
       "    </tr>\n",
       "  </tbody>\n",
       "</table>\n",
       "</div>"
      ],
      "text/plain": [
       "           user_id     item_id  score  Rank\n",
       "2   A27TN8D0CZ8LUY  0972683275    5.0   1.0\n",
       "4   A27TN8D0CZ8LUY  1400501520    5.0   2.0\n",
       "5   A27TN8D0CZ8LUY  1400501776    5.0   3.0\n",
       "7   A27TN8D0CZ8LUY  1400532655    5.0   4.0\n",
       "11  A27TN8D0CZ8LUY  3744295508    5.0   5.0\n",
       "13  A27TN8D0CZ8LUY  8862935307    5.0   6.0\n",
       "17  A27TN8D0CZ8LUY  9573212919    5.0   7.0\n",
       "19  A27TN8D0CZ8LUY  9800359788    5.0   8.0\n",
       "22  A27TN8D0CZ8LUY  9981739588    5.0   9.0\n",
       "24  A27TN8D0CZ8LUY  9984922626    5.0  10.0"
      ]
     },
     "execution_count": 24,
     "metadata": {},
     "output_type": "execute_result"
    }
   ],
   "source": [
    "pm.recommend(train_users[7])"
   ]
  },
  {
   "cell_type": "markdown",
   "metadata": {},
   "source": [
    "## 5. Build Collaborative Filtering model."
   ]
  },
  {
   "cell_type": "code",
   "execution_count": 25,
   "metadata": {},
   "outputs": [
    {
     "data": {
      "text/plain": [
       "<bound method NDFrame.head of item_id         0594481813  0970407998  0972683275  1400501466  1400501520  \\\n",
       "user_id                                                                      \n",
       "A100UD67AHFODS         0.0         0.0         0.0         0.0         0.0   \n",
       "A100WO06OQR8BQ         0.0         0.0         0.0         0.0         0.0   \n",
       "A105S56ODHGJEK         0.0         0.0         0.0         0.0         0.0   \n",
       "A105TOJ6LTVMBG         0.0         0.0         0.0         0.0         0.0   \n",
       "A10AFVU66A79Y1         0.0         0.0         0.0         0.0         0.0   \n",
       "A10H24TDLK2VDP         0.0         0.0         0.0         0.0         0.0   \n",
       "A10NMELR4KX0J6         0.0         0.0         0.0         0.0         0.0   \n",
       "A10O7THJ2O20AG         0.0         0.0         0.0         0.0         0.0   \n",
       "A10PEXB6XAQ5XF         0.0         0.0         0.0         0.0         0.0   \n",
       "A10X9ME6R66JDX         0.0         0.0         0.0         0.0         0.0   \n",
       "A10Y058K7B96C6         0.0         0.0         0.0         0.0         0.0   \n",
       "A10ZBR6O8S8OCY         0.0         0.0         0.0         0.0         0.0   \n",
       "A10ZFE6YE0UHW8         0.0         0.0         0.0         0.0         0.0   \n",
       "A110PC8C5Y7MQD         0.0         0.0         0.0         0.0         0.0   \n",
       "A110VKXAVLAYKY         0.0         0.0         0.0         0.0         0.0   \n",
       "A111WCUF5KA2I6         0.0         0.0         0.0         0.0         0.0   \n",
       "A1143YEAZYMYHJ         0.0         0.0         0.0         0.0         0.0   \n",
       "A11D1KHM7DVOQK         0.0         0.0         0.0         0.0         0.0   \n",
       "A11ED8O95W2103         0.0         0.0         0.0         0.0         0.0   \n",
       "A11EXFO14WEJM1         0.0         0.0         0.0         0.0         0.0   \n",
       "A11EYMH9UV9XG7         0.0         0.0         0.0         0.0         0.0   \n",
       "A11FX8HL2ANK6T         0.0         0.0         0.0         0.0         0.0   \n",
       "A11I1I9QLMAM1A         0.0         0.0         0.0         0.0         0.0   \n",
       "A11IXJ8M1JO296         0.0         0.0         0.0         0.0         0.0   \n",
       "A11KQADBYE0UZL         0.0         0.0         0.0         0.0         0.0   \n",
       "A11KZ906QD08C5         0.0         0.0         0.0         0.0         0.0   \n",
       "A11LNPG39A2ZV4         0.0         0.0         0.0         0.0         0.0   \n",
       "A11OTLEDSW8ZXD         0.0         0.0         0.0         0.0         0.0   \n",
       "A11P105WVK5240         0.0         0.0         0.0         0.0         0.0   \n",
       "A11R5VW7IM6ISQ         0.0         0.0         0.0         0.0         0.0   \n",
       "...                    ...         ...         ...         ...         ...   \n",
       "AWZR0O65DL2Q           0.0         0.0         0.0         0.0         0.0   \n",
       "AX05DBU8IRUWY          0.0         0.0         0.0         0.0         0.0   \n",
       "AX7317G153T8W          0.0         0.0         0.0         0.0         0.0   \n",
       "AXP8GO5Q3AXSA          0.0         0.0         0.0         0.0         0.0   \n",
       "AXR3CV6A4FMBG          0.0         0.0         0.0         0.0         0.0   \n",
       "AXU3VKZE848IY          0.0         0.0         0.0         0.0         0.0   \n",
       "AXU8RH1DEV21H          0.0         0.0         0.0         0.0         0.0   \n",
       "AXYM52DNK6NDF          0.0         0.0         0.0         0.0         0.0   \n",
       "AY3D7DG5L5WCK          0.0         0.0         0.0         0.0         0.0   \n",
       "AY3XPKRAMKKY7          0.0         0.0         0.0         0.0         0.0   \n",
       "AY4EXFOO43C3S          0.0         0.0         0.0         0.0         0.0   \n",
       "AY6A8KPYCE6B0          0.0         0.0         0.0         0.0         0.0   \n",
       "AYB4ELCS5AM8P          0.0         0.0         0.0         0.0         0.0   \n",
       "AYCAIHABPYWVJ          0.0         0.0         0.0         0.0         0.0   \n",
       "AYGEKID3G7DPW          0.0         0.0         0.0         0.0         0.0   \n",
       "AYLLSFYS3UP1H          0.0         0.0         0.0         0.0         0.0   \n",
       "AYMD77ITD15PT          0.0         0.0         0.0         0.0         0.0   \n",
       "AYNAH993VDECT          0.0         0.0         0.0         0.0         0.0   \n",
       "AYO1146CBIV5C          0.0         0.0         0.0         0.0         0.0   \n",
       "AYOMAHLWRQHUG          0.0         0.0         0.0         0.0         0.0   \n",
       "AYOTEJ617O60K          0.0         0.0         0.0         0.0         0.0   \n",
       "AYP0YPLSP9ISM          0.0         0.0         0.0         0.0         0.0   \n",
       "AZ515FFZ7I2P7          0.0         0.0         0.0         0.0         0.0   \n",
       "AZ8XSDMIX04VJ          0.0         0.0         0.0         0.0         0.0   \n",
       "AZAC8O310IK4E          0.0         0.0         0.0         0.0         0.0   \n",
       "AZBXKUH4AIW3X          0.0         0.0         0.0         0.0         0.0   \n",
       "AZCE11PSTCH1L          0.0         0.0         0.0         0.0         0.0   \n",
       "AZMY6E8B52L2T          0.0         0.0         0.0         0.0         0.0   \n",
       "AZNUHQSHZHSUE          0.0         0.0         0.0         0.0         0.0   \n",
       "AZOK5STV85FBJ          0.0         0.0         0.0         0.0         0.0   \n",
       "\n",
       "item_id         1400501776  1400532620  1400532655  140053271X  1400599997  \\\n",
       "user_id                                                                      \n",
       "A100UD67AHFODS         0.0         0.0         0.0         0.0         0.0   \n",
       "A100WO06OQR8BQ         0.0         0.0         0.0         0.0         0.0   \n",
       "A105S56ODHGJEK         0.0         0.0         0.0         0.0         0.0   \n",
       "A105TOJ6LTVMBG         0.0         0.0         0.0         0.0         0.0   \n",
       "A10AFVU66A79Y1         0.0         0.0         0.0         0.0         0.0   \n",
       "A10H24TDLK2VDP         0.0         0.0         0.0         0.0         0.0   \n",
       "A10NMELR4KX0J6         0.0         0.0         0.0         0.0         0.0   \n",
       "A10O7THJ2O20AG         0.0         0.0         0.0         0.0         0.0   \n",
       "A10PEXB6XAQ5XF         0.0         0.0         0.0         0.0         0.0   \n",
       "A10X9ME6R66JDX         0.0         0.0         0.0         0.0         0.0   \n",
       "A10Y058K7B96C6         0.0         0.0         0.0         0.0         0.0   \n",
       "A10ZBR6O8S8OCY         0.0         0.0         0.0         0.0         0.0   \n",
       "A10ZFE6YE0UHW8         0.0         0.0         0.0         0.0         0.0   \n",
       "A110PC8C5Y7MQD         0.0         0.0         0.0         0.0         0.0   \n",
       "A110VKXAVLAYKY         0.0         0.0         0.0         0.0         0.0   \n",
       "A111WCUF5KA2I6         0.0         0.0         0.0         0.0         0.0   \n",
       "A1143YEAZYMYHJ         0.0         0.0         0.0         0.0         0.0   \n",
       "A11D1KHM7DVOQK         0.0         0.0         0.0         0.0         0.0   \n",
       "A11ED8O95W2103         0.0         0.0         0.0         0.0         0.0   \n",
       "A11EXFO14WEJM1         0.0         0.0         0.0         0.0         0.0   \n",
       "A11EYMH9UV9XG7         0.0         0.0         0.0         0.0         0.0   \n",
       "A11FX8HL2ANK6T         0.0         0.0         0.0         0.0         0.0   \n",
       "A11I1I9QLMAM1A         0.0         0.0         0.0         0.0         0.0   \n",
       "A11IXJ8M1JO296         0.0         0.0         0.0         0.0         0.0   \n",
       "A11KQADBYE0UZL         0.0         0.0         0.0         0.0         0.0   \n",
       "A11KZ906QD08C5         0.0         0.0         0.0         0.0         0.0   \n",
       "A11LNPG39A2ZV4         0.0         0.0         0.0         0.0         0.0   \n",
       "A11OTLEDSW8ZXD         0.0         0.0         0.0         0.0         0.0   \n",
       "A11P105WVK5240         0.0         0.0         0.0         0.0         0.0   \n",
       "A11R5VW7IM6ISQ         0.0         0.0         0.0         0.0         0.0   \n",
       "...                    ...         ...         ...         ...         ...   \n",
       "AWZR0O65DL2Q           0.0         0.0         0.0         0.0         0.0   \n",
       "AX05DBU8IRUWY          0.0         0.0         0.0         0.0         0.0   \n",
       "AX7317G153T8W          0.0         0.0         0.0         0.0         0.0   \n",
       "AXP8GO5Q3AXSA          0.0         0.0         0.0         0.0         0.0   \n",
       "AXR3CV6A4FMBG          0.0         0.0         0.0         0.0         0.0   \n",
       "AXU3VKZE848IY          0.0         0.0         0.0         0.0         0.0   \n",
       "AXU8RH1DEV21H          0.0         0.0         0.0         0.0         0.0   \n",
       "AXYM52DNK6NDF          0.0         0.0         0.0         0.0         0.0   \n",
       "AY3D7DG5L5WCK          0.0         0.0         0.0         0.0         0.0   \n",
       "AY3XPKRAMKKY7          0.0         0.0         0.0         0.0         0.0   \n",
       "AY4EXFOO43C3S          0.0         0.0         0.0         0.0         0.0   \n",
       "AY6A8KPYCE6B0          0.0         0.0         0.0         0.0         0.0   \n",
       "AYB4ELCS5AM8P          0.0         0.0         0.0         0.0         0.0   \n",
       "AYCAIHABPYWVJ          0.0         0.0         0.0         0.0         0.0   \n",
       "AYGEKID3G7DPW          0.0         0.0         0.0         0.0         0.0   \n",
       "AYLLSFYS3UP1H          0.0         0.0         0.0         0.0         0.0   \n",
       "AYMD77ITD15PT          0.0         0.0         0.0         0.0         0.0   \n",
       "AYNAH993VDECT          0.0         0.0         0.0         0.0         0.0   \n",
       "AYO1146CBIV5C          0.0         0.0         0.0         0.0         0.0   \n",
       "AYOMAHLWRQHUG          0.0         0.0         0.0         0.0         0.0   \n",
       "AYOTEJ617O60K          0.0         0.0         0.0         0.0         0.0   \n",
       "AYP0YPLSP9ISM          0.0         0.0         0.0         0.0         0.0   \n",
       "AZ515FFZ7I2P7          0.0         0.0         0.0         0.0         0.0   \n",
       "AZ8XSDMIX04VJ          0.0         0.0         0.0         0.0         0.0   \n",
       "AZAC8O310IK4E          0.0         0.0         0.0         0.0         0.0   \n",
       "AZBXKUH4AIW3X          0.0         0.0         0.0         0.0         0.0   \n",
       "AZCE11PSTCH1L          0.0         0.0         0.0         0.0         0.0   \n",
       "AZMY6E8B52L2T          0.0         0.0         0.0         0.0         0.0   \n",
       "AZNUHQSHZHSUE          0.0         0.0         0.0         0.0         0.0   \n",
       "AZOK5STV85FBJ          0.0         0.0         0.0         0.0         0.0   \n",
       "\n",
       "item_id            ...      B00L3YHF6O  B00L403O94  B00L5YZCCG  B00L8I6SFY  \\\n",
       "user_id            ...                                                       \n",
       "A100UD67AHFODS     ...             0.0         0.0         0.0         0.0   \n",
       "A100WO06OQR8BQ     ...             0.0         0.0         0.0         0.0   \n",
       "A105S56ODHGJEK     ...             0.0         0.0         0.0         0.0   \n",
       "A105TOJ6LTVMBG     ...             0.0         0.0         0.0         0.0   \n",
       "A10AFVU66A79Y1     ...             0.0         0.0         0.0         0.0   \n",
       "A10H24TDLK2VDP     ...             0.0         0.0         0.0         0.0   \n",
       "A10NMELR4KX0J6     ...             0.0         0.0         0.0         0.0   \n",
       "A10O7THJ2O20AG     ...             0.0         0.0         0.0         0.0   \n",
       "A10PEXB6XAQ5XF     ...             0.0         0.0         0.0         0.0   \n",
       "A10X9ME6R66JDX     ...             0.0         0.0         0.0         0.0   \n",
       "A10Y058K7B96C6     ...             0.0         0.0         0.0         0.0   \n",
       "A10ZBR6O8S8OCY     ...             0.0         0.0         0.0         0.0   \n",
       "A10ZFE6YE0UHW8     ...             0.0         0.0         0.0         0.0   \n",
       "A110PC8C5Y7MQD     ...             0.0         0.0         0.0         0.0   \n",
       "A110VKXAVLAYKY     ...             0.0         0.0         0.0         0.0   \n",
       "A111WCUF5KA2I6     ...             0.0         0.0         0.0         0.0   \n",
       "A1143YEAZYMYHJ     ...             0.0         0.0         0.0         0.0   \n",
       "A11D1KHM7DVOQK     ...             0.0         0.0         0.0         0.0   \n",
       "A11ED8O95W2103     ...             0.0         0.0         0.0         0.0   \n",
       "A11EXFO14WEJM1     ...             0.0         0.0         0.0         0.0   \n",
       "A11EYMH9UV9XG7     ...             0.0         0.0         0.0         0.0   \n",
       "A11FX8HL2ANK6T     ...             0.0         0.0         0.0         0.0   \n",
       "A11I1I9QLMAM1A     ...             0.0         0.0         0.0         0.0   \n",
       "A11IXJ8M1JO296     ...             0.0         0.0         0.0         0.0   \n",
       "A11KQADBYE0UZL     ...             0.0         0.0         0.0         0.0   \n",
       "A11KZ906QD08C5     ...             0.0         0.0         0.0         0.0   \n",
       "A11LNPG39A2ZV4     ...             0.0         0.0         0.0         0.0   \n",
       "A11OTLEDSW8ZXD     ...             0.0         0.0         0.0         0.0   \n",
       "A11P105WVK5240     ...             0.0         0.0         0.0         0.0   \n",
       "A11R5VW7IM6ISQ     ...             0.0         0.0         0.0         0.0   \n",
       "...                ...             ...         ...         ...         ...   \n",
       "AWZR0O65DL2Q       ...             0.0         0.0         0.0         0.0   \n",
       "AX05DBU8IRUWY      ...             0.0         0.0         0.0         0.0   \n",
       "AX7317G153T8W      ...             0.0         0.0         0.0         0.0   \n",
       "AXP8GO5Q3AXSA      ...             0.0         0.0         0.0         0.0   \n",
       "AXR3CV6A4FMBG      ...             0.0         0.0         0.0         0.0   \n",
       "AXU3VKZE848IY      ...             0.0         0.0         0.0         0.0   \n",
       "AXU8RH1DEV21H      ...             0.0         0.0         0.0         0.0   \n",
       "AXYM52DNK6NDF      ...             0.0         0.0         0.0         0.0   \n",
       "AY3D7DG5L5WCK      ...             0.0         0.0         0.0         0.0   \n",
       "AY3XPKRAMKKY7      ...             0.0         0.0         0.0         0.0   \n",
       "AY4EXFOO43C3S      ...             0.0         0.0         0.0         0.0   \n",
       "AY6A8KPYCE6B0      ...             0.0         5.0         0.0         0.0   \n",
       "AYB4ELCS5AM8P      ...             0.0         0.0         0.0         0.0   \n",
       "AYCAIHABPYWVJ      ...             0.0         0.0         0.0         0.0   \n",
       "AYGEKID3G7DPW      ...             0.0         0.0         0.0         0.0   \n",
       "AYLLSFYS3UP1H      ...             0.0         0.0         0.0         0.0   \n",
       "AYMD77ITD15PT      ...             0.0         0.0         0.0         0.0   \n",
       "AYNAH993VDECT      ...             0.0         0.0         0.0         0.0   \n",
       "AYO1146CBIV5C      ...             0.0         0.0         0.0         0.0   \n",
       "AYOMAHLWRQHUG      ...             0.0         0.0         0.0         0.0   \n",
       "AYOTEJ617O60K      ...             0.0         0.0         0.0         0.0   \n",
       "AYP0YPLSP9ISM      ...             0.0         0.0         0.0         0.0   \n",
       "AZ515FFZ7I2P7      ...             0.0         0.0         0.0         0.0   \n",
       "AZ8XSDMIX04VJ      ...             0.0         0.0         0.0         0.0   \n",
       "AZAC8O310IK4E      ...             0.0         0.0         0.0         0.0   \n",
       "AZBXKUH4AIW3X      ...             0.0         0.0         0.0         0.0   \n",
       "AZCE11PSTCH1L      ...             0.0         0.0         0.0         0.0   \n",
       "AZMY6E8B52L2T      ...             0.0         0.0         0.0         0.0   \n",
       "AZNUHQSHZHSUE      ...             0.0         0.0         0.0         0.0   \n",
       "AZOK5STV85FBJ      ...             0.0         0.0         0.0         0.0   \n",
       "\n",
       "item_id         B00L8QCVL6  B00LA6T0LS  B00LBZ1Z7K  B00LED02VY  B00LGN7Y3G  \\\n",
       "user_id                                                                      \n",
       "A100UD67AHFODS         0.0         0.0         0.0         0.0         0.0   \n",
       "A100WO06OQR8BQ         0.0         0.0         0.0         0.0         0.0   \n",
       "A105S56ODHGJEK         0.0         0.0         0.0         0.0         0.0   \n",
       "A105TOJ6LTVMBG         0.0         0.0         0.0         0.0         0.0   \n",
       "A10AFVU66A79Y1         0.0         0.0         0.0         0.0         0.0   \n",
       "A10H24TDLK2VDP         0.0         0.0         0.0         0.0         0.0   \n",
       "A10NMELR4KX0J6         0.0         0.0         0.0         0.0         0.0   \n",
       "A10O7THJ2O20AG         0.0         0.0         0.0         0.0         0.0   \n",
       "A10PEXB6XAQ5XF         0.0         0.0         0.0         0.0         0.0   \n",
       "A10X9ME6R66JDX         0.0         0.0         0.0         0.0         0.0   \n",
       "A10Y058K7B96C6         0.0         0.0         0.0         0.0         0.0   \n",
       "A10ZBR6O8S8OCY         0.0         0.0         0.0         0.0         0.0   \n",
       "A10ZFE6YE0UHW8         0.0         0.0         0.0         0.0         0.0   \n",
       "A110PC8C5Y7MQD         0.0         0.0         0.0         0.0         0.0   \n",
       "A110VKXAVLAYKY         0.0         0.0         0.0         0.0         0.0   \n",
       "A111WCUF5KA2I6         0.0         0.0         0.0         0.0         0.0   \n",
       "A1143YEAZYMYHJ         0.0         0.0         0.0         0.0         0.0   \n",
       "A11D1KHM7DVOQK         0.0         0.0         0.0         0.0         0.0   \n",
       "A11ED8O95W2103         0.0         0.0         0.0         0.0         0.0   \n",
       "A11EXFO14WEJM1         0.0         0.0         0.0         0.0         0.0   \n",
       "A11EYMH9UV9XG7         0.0         0.0         0.0         0.0         0.0   \n",
       "A11FX8HL2ANK6T         0.0         0.0         0.0         0.0         0.0   \n",
       "A11I1I9QLMAM1A         0.0         0.0         0.0         0.0         0.0   \n",
       "A11IXJ8M1JO296         0.0         0.0         0.0         0.0         0.0   \n",
       "A11KQADBYE0UZL         0.0         0.0         0.0         0.0         0.0   \n",
       "A11KZ906QD08C5         0.0         0.0         0.0         0.0         0.0   \n",
       "A11LNPG39A2ZV4         0.0         0.0         0.0         0.0         0.0   \n",
       "A11OTLEDSW8ZXD         0.0         0.0         0.0         0.0         0.0   \n",
       "A11P105WVK5240         0.0         0.0         0.0         0.0         0.0   \n",
       "A11R5VW7IM6ISQ         0.0         0.0         0.0         0.0         0.0   \n",
       "...                    ...         ...         ...         ...         ...   \n",
       "AWZR0O65DL2Q           0.0         0.0         0.0         0.0         0.0   \n",
       "AX05DBU8IRUWY          0.0         0.0         0.0         0.0         0.0   \n",
       "AX7317G153T8W          0.0         0.0         0.0         0.0         0.0   \n",
       "AXP8GO5Q3AXSA          0.0         0.0         0.0         0.0         0.0   \n",
       "AXR3CV6A4FMBG          0.0         0.0         0.0         0.0         0.0   \n",
       "AXU3VKZE848IY          0.0         0.0         0.0         0.0         0.0   \n",
       "AXU8RH1DEV21H          0.0         0.0         0.0         0.0         0.0   \n",
       "AXYM52DNK6NDF          0.0         0.0         0.0         0.0         0.0   \n",
       "AY3D7DG5L5WCK          0.0         0.0         0.0         0.0         0.0   \n",
       "AY3XPKRAMKKY7          0.0         0.0         0.0         0.0         0.0   \n",
       "AY4EXFOO43C3S          0.0         0.0         0.0         0.0         0.0   \n",
       "AY6A8KPYCE6B0          0.0         0.0         0.0         0.0         0.0   \n",
       "AYB4ELCS5AM8P          0.0         0.0         0.0         0.0         0.0   \n",
       "AYCAIHABPYWVJ          0.0         0.0         0.0         0.0         0.0   \n",
       "AYGEKID3G7DPW          0.0         0.0         0.0         0.0         0.0   \n",
       "AYLLSFYS3UP1H          0.0         0.0         0.0         0.0         0.0   \n",
       "AYMD77ITD15PT          0.0         0.0         0.0         0.0         0.0   \n",
       "AYNAH993VDECT          0.0         0.0         0.0         0.0         0.0   \n",
       "AYO1146CBIV5C          0.0         0.0         0.0         0.0         0.0   \n",
       "AYOMAHLWRQHUG          0.0         0.0         0.0         0.0         0.0   \n",
       "AYOTEJ617O60K          0.0         0.0         0.0         0.0         0.0   \n",
       "AYP0YPLSP9ISM          0.0         0.0         0.0         0.0         0.0   \n",
       "AZ515FFZ7I2P7          0.0         0.0         0.0         0.0         0.0   \n",
       "AZ8XSDMIX04VJ          0.0         0.0         0.0         0.0         0.0   \n",
       "AZAC8O310IK4E          0.0         0.0         0.0         0.0         0.0   \n",
       "AZBXKUH4AIW3X          0.0         0.0         0.0         0.0         0.0   \n",
       "AZCE11PSTCH1L          0.0         0.0         0.0         0.0         0.0   \n",
       "AZMY6E8B52L2T          0.0         0.0         0.0         0.0         0.0   \n",
       "AZNUHQSHZHSUE          0.0         0.0         0.0         0.0         0.0   \n",
       "AZOK5STV85FBJ          0.0         0.0         0.0         0.0         0.0   \n",
       "\n",
       "item_id         B00LGQ6HL8  \n",
       "user_id                     \n",
       "A100UD67AHFODS         0.0  \n",
       "A100WO06OQR8BQ         0.0  \n",
       "A105S56ODHGJEK         0.0  \n",
       "A105TOJ6LTVMBG         0.0  \n",
       "A10AFVU66A79Y1         0.0  \n",
       "A10H24TDLK2VDP         0.0  \n",
       "A10NMELR4KX0J6         0.0  \n",
       "A10O7THJ2O20AG         0.0  \n",
       "A10PEXB6XAQ5XF         0.0  \n",
       "A10X9ME6R66JDX         0.0  \n",
       "A10Y058K7B96C6         0.0  \n",
       "A10ZBR6O8S8OCY         0.0  \n",
       "A10ZFE6YE0UHW8         0.0  \n",
       "A110PC8C5Y7MQD         0.0  \n",
       "A110VKXAVLAYKY         0.0  \n",
       "A111WCUF5KA2I6         0.0  \n",
       "A1143YEAZYMYHJ         0.0  \n",
       "A11D1KHM7DVOQK         0.0  \n",
       "A11ED8O95W2103         0.0  \n",
       "A11EXFO14WEJM1         0.0  \n",
       "A11EYMH9UV9XG7         0.0  \n",
       "A11FX8HL2ANK6T         0.0  \n",
       "A11I1I9QLMAM1A         0.0  \n",
       "A11IXJ8M1JO296         0.0  \n",
       "A11KQADBYE0UZL         0.0  \n",
       "A11KZ906QD08C5         0.0  \n",
       "A11LNPG39A2ZV4         0.0  \n",
       "A11OTLEDSW8ZXD         0.0  \n",
       "A11P105WVK5240         0.0  \n",
       "A11R5VW7IM6ISQ         0.0  \n",
       "...                    ...  \n",
       "AWZR0O65DL2Q           0.0  \n",
       "AX05DBU8IRUWY          0.0  \n",
       "AX7317G153T8W          0.0  \n",
       "AXP8GO5Q3AXSA          0.0  \n",
       "AXR3CV6A4FMBG          0.0  \n",
       "AXU3VKZE848IY          0.0  \n",
       "AXU8RH1DEV21H          0.0  \n",
       "AXYM52DNK6NDF          0.0  \n",
       "AY3D7DG5L5WCK          0.0  \n",
       "AY3XPKRAMKKY7          0.0  \n",
       "AY4EXFOO43C3S          0.0  \n",
       "AY6A8KPYCE6B0          0.0  \n",
       "AYB4ELCS5AM8P          0.0  \n",
       "AYCAIHABPYWVJ          0.0  \n",
       "AYGEKID3G7DPW          0.0  \n",
       "AYLLSFYS3UP1H          0.0  \n",
       "AYMD77ITD15PT          0.0  \n",
       "AYNAH993VDECT          0.0  \n",
       "AYO1146CBIV5C          0.0  \n",
       "AYOMAHLWRQHUG          0.0  \n",
       "AYOTEJ617O60K          0.0  \n",
       "AYP0YPLSP9ISM          0.0  \n",
       "AZ515FFZ7I2P7          0.0  \n",
       "AZ8XSDMIX04VJ          0.0  \n",
       "AZAC8O310IK4E          0.0  \n",
       "AZBXKUH4AIW3X          0.0  \n",
       "AZCE11PSTCH1L          0.0  \n",
       "AZMY6E8B52L2T          0.0  \n",
       "AZNUHQSHZHSUE          0.0  \n",
       "AZOK5STV85FBJ          0.0  \n",
       "\n",
       "[1540 rows x 38256 columns]>"
      ]
     },
     "execution_count": 25,
     "metadata": {},
     "output_type": "execute_result"
    }
   ],
   "source": [
    "# We want the format of ratings matrix to be one row per user and one column per item. \n",
    "#we can pivot ratings_df to get that and call the new variable R_df.\n",
    "R_df = train_data.pivot(index = 'user_id', columns ='item_id', values = 'score').fillna(0)\n",
    "R_df.head"
   ]
  },
  {
   "cell_type": "code",
   "execution_count": 26,
   "metadata": {},
   "outputs": [],
   "source": [
    "RM_df=pd.DataFrame(R_df)\n",
    "\n",
    "#declaring k,metric as global which can be changed by the user later\n",
    "global k,metric\n",
    "k=4\n",
    "metric='cosine' #can be changed to 'correlation' for Pearson correlation similaries"
   ]
  },
  {
   "cell_type": "code",
   "execution_count": 27,
   "metadata": {},
   "outputs": [],
   "source": [
    "#get cosine similarities for ratings matrix M; pairwise_distances returns the distances between ratings and hence\n",
    "#similarities are obtained by subtracting distances from 1\n",
    "cosine_sim = 1-pairwise_distances(RM_df, metric=\"cosine\")"
   ]
  },
  {
   "cell_type": "markdown",
   "metadata": {},
   "source": [
    "### Item Based Recommendation System"
   ]
  },
  {
   "cell_type": "code",
   "execution_count": 84,
   "metadata": {},
   "outputs": [],
   "source": [
    "#This function finds k similar items given the item_id and ratings matrix M\n",
    "\n",
    "def findksimilaritems(item_id, ratings, metric=metric, k=k):\n",
    "    similarities=[]\n",
    "    indices=[]    \n",
    "    ratings=ratings.T\n",
    "    model_knn = NearestNeighbors(metric = metric, algorithm = 'brute')\n",
    "    model_knn.fit(ratings)\n",
    "\n",
    "    distances, indices = model_knn.kneighbors(ratings.loc[item_id, :].values.reshape(1, -1), n_neighbors = k+1)\n",
    "    similarities = 1-distances.flatten()\n",
    "    print ('{0} most similar items for item {1}:\\n'.format(k,item_id))\n",
    "    for i in range(0, len(indices.flatten())):\n",
    "        if indices.flatten()[i]+1 == item_id:\n",
    "            continue;\n",
    "\n",
    "        else:\n",
    "            item = train_items[indices.flatten()[i]+1]\n",
    "            print ('{0}: Item {1} :, with similarity of {2}'.format(i,item, similarities.flatten()[i]))\n",
    "\n",
    "\n",
    "    return similarities,indices"
   ]
  },
  {
   "cell_type": "code",
   "execution_count": 85,
   "metadata": {},
   "outputs": [],
   "source": [
    "#This function predicts the rating for specified user-item combination based on item-based approach\n",
    "def predict_itembased(user_id, item_id, ratings, metric = metric, k=k):\n",
    "    prediction= wtd_sum =0\n",
    "    similarities, indices=findksimilaritems(item_id, ratings) #similar users based on correlation coefficients\n",
    "    sum_wt = np.sum(similarities)-1\n",
    "    product=1\n",
    "    \n",
    "    for i in range(0, len(indices.flatten())):\n",
    "        if train_items[indices.flatten()[i]+1] == item_id:\n",
    "            continue;\n",
    "        else:\n",
    "            product = ratings.loc[user_id,train_items[indices.flatten()[i]]] * (similarities[i])\n",
    "            #product = ratings.iloc[user_id,indices.flatten()[i]] * (similarities[i])\n",
    "            wtd_sum = wtd_sum + product                              \n",
    "    prediction = int(round(wtd_sum/sum_wt))\n",
    "    print ('\\nPredicted rating for user {0} -> item {1}: {2}'.format(user_id,item_id,prediction))\n",
    "\n",
    "    return prediction"
   ]
  },
  {
   "cell_type": "code",
   "execution_count": 86,
   "metadata": {},
   "outputs": [
    {
     "name": "stdout",
     "output_type": "stream",
     "text": [
      "4 most similar items for item B001NOG2T0:\n",
      "\n",
      "0: Item B00KFAGCUM :, with similarity of 1.0\n",
      "1: Item B00DW29TBY :, with similarity of 1.0\n",
      "2: Item B0039UWW54 :, with similarity of 1.0\n",
      "3: Item B0000TQ154 :, with similarity of 1.0\n",
      "4: Item B0015LURY2 :, with similarity of 1.0\n"
     ]
    }
   ],
   "source": [
    "similarities,indices=findksimilaritems(train_items[2],RM_df)"
   ]
  },
  {
   "cell_type": "code",
   "execution_count": 87,
   "metadata": {},
   "outputs": [
    {
     "name": "stdout",
     "output_type": "stream",
     "text": [
      "4 most similar items for item B001NOG2T0:\n",
      "\n",
      "0: Item B00KFAGCUM :, with similarity of 1.0\n",
      "1: Item B00DW29TBY :, with similarity of 1.0\n",
      "2: Item B0039UWW54 :, with similarity of 1.0\n",
      "3: Item B0000TQ154 :, with similarity of 1.0\n",
      "4: Item B0015LURY2 :, with similarity of 1.0\n",
      "\n",
      "Predicted rating for user ALDAF4VVLFRHP -> item B001NOG2T0: 0\n"
     ]
    }
   ],
   "source": [
    "prediction = predict_itembased(train_users[2],train_items[2],RM_df)"
   ]
  },
  {
   "cell_type": "markdown",
   "metadata": {},
   "source": [
    "### User Based Recommendation System"
   ]
  },
  {
   "cell_type": "code",
   "execution_count": 32,
   "metadata": {},
   "outputs": [],
   "source": [
    "#This function finds k similar users given the user_id and ratings matrix M\n",
    "#Note that the similarities are same as obtained via using pairwise_distances\n",
    "def findksimilarusers(user_id, ratings, metric = metric, k=k):\n",
    "    similarities=[]\n",
    "    indices=[]\n",
    "    model_knn = NearestNeighbors(metric = metric, algorithm = 'brute') \n",
    "    model_knn.fit(ratings)\n",
    "\n",
    "    distances, indices = model_knn.kneighbors(ratings.loc[user_id, :].values.reshape(1, -1), n_neighbors = k+1)\n",
    "    similarities = 1-distances.flatten()\n",
    "    print ('{0} most similar users for User {1}:\\n'.format(k,user_id))\n",
    "    for i in range(0, len(indices.flatten())):\n",
    "        if indices.flatten()[i]+1 == user_id:\n",
    "            continue;\n",
    "\n",
    "        else:\n",
    "            user = train_users[indices.flatten()[i]+1]\n",
    "            print ('{0}: User {1}, with similarity of {2}'.format(i, user, similarities.flatten()[i]))\n",
    "            \n",
    "    return similarities,indices"
   ]
  },
  {
   "cell_type": "code",
   "execution_count": 33,
   "metadata": {},
   "outputs": [],
   "source": [
    "#This function predicts rating for specified user-item combination based on user-based approach\n",
    "def predict_userbased(user_id, item_id, ratings, metric = metric, k=k):\n",
    "    prediction=0\n",
    "    similarities, indices=findksimilarusers(user_id, ratings,metric, k) #similar users based on cosine similarity\n",
    "    mean_rating = ratings.loc[user_id,:].mean() #to adjust for zero based indexing\n",
    "    sum_wt = np.sum(similarities)-1\n",
    "    product=1\n",
    "    wtd_sum = 0 \n",
    "    \n",
    "    for i in range(0, len(indices.flatten())):\n",
    "        if indices.flatten()[i]+1 == user_id:\n",
    "            continue;\n",
    "        else:             \n",
    "            ratings_diff = ratings.loc[train_users[indices.flatten()[i]],item_id]-np.mean(ratings.loc[train_users[indices.flatten()[i]],:])\n",
    "            product = ratings_diff * (similarities[i])\n",
    "            wtd_sum = wtd_sum + product\n",
    "    \n",
    "    prediction = int(round(mean_rating + (wtd_sum/sum_wt)))\n",
    "    print ('\\nPredicted rating for user {0} -> item {1}: {2}'.format(user_id,item_id,prediction))\n",
    "\n",
    "    return prediction"
   ]
  },
  {
   "cell_type": "code",
   "execution_count": 34,
   "metadata": {},
   "outputs": [
    {
     "name": "stdout",
     "output_type": "stream",
     "text": [
      "4 most similar users for User ALDAF4VVLFRHP:\n",
      "\n",
      "0: User A13WREJ05GMRA6, with similarity of 1.0\n",
      "1: User A3HSDV9Y0TV5Z2, with similarity of 0.09422459728690291\n",
      "2: User A680RUE1FDO8B, with similarity of 0.07907037171606279\n",
      "3: User A27H61OHW44XA7, with similarity of 0.06427152170440897\n",
      "4: User A16HXVNPU5TCGE, with similarity of 0.06397086568995336\n"
     ]
    }
   ],
   "source": [
    "similarities,indices = findksimilarusers(train_users[2],RM_df, metric='cosine')"
   ]
  },
  {
   "cell_type": "code",
   "execution_count": 35,
   "metadata": {},
   "outputs": [
    {
     "name": "stdout",
     "output_type": "stream",
     "text": [
      "4 most similar users for User ALDAF4VVLFRHP:\n",
      "\n",
      "0: User A13WREJ05GMRA6, with similarity of 1.0\n",
      "1: User A3HSDV9Y0TV5Z2, with similarity of 0.09422459728690291\n",
      "2: User A680RUE1FDO8B, with similarity of 0.07907037171606279\n",
      "3: User A27H61OHW44XA7, with similarity of 0.06427152170440897\n",
      "4: User A16HXVNPU5TCGE, with similarity of 0.06397086568995336\n",
      "\n",
      "Predicted rating for user ALDAF4VVLFRHP -> item B001NOG2T0: 0\n"
     ]
    },
    {
     "data": {
      "text/plain": [
       "0"
      ]
     },
     "execution_count": 35,
     "metadata": {},
     "output_type": "execute_result"
    }
   ],
   "source": [
    "predict_userbased(train_users[2],train_items[2],RM_df)"
   ]
  },
  {
   "cell_type": "markdown",
   "metadata": {},
   "source": [
    "## 6. Evaluate both the models. (Once the model is trained on the training data, it can be used to compute the error (RMSE) on predictions made on the test data.)"
   ]
  },
  {
   "cell_type": "code",
   "execution_count": 36,
   "metadata": {},
   "outputs": [],
   "source": [
    "#This is a quick way to temporarily suppress stdout in particular code section\n",
    "@contextmanager\n",
    "def suppress_stdout():\n",
    "    with open(os.devnull, \"w\") as devnull:\n",
    "        old_stdout = sys.stdout\n",
    "        sys.stdout = devnull\n",
    "        try:  \n",
    "            yield\n",
    "        finally:\n",
    "            sys.stdout = old_stdout"
   ]
  },
  {
   "cell_type": "code",
   "execution_count": 52,
   "metadata": {},
   "outputs": [],
   "source": [
    "#This is final function to evaluate the performance of selected recommendation approach and the metric used here is RMSE\n",
    "#suppress_stdout function is used to suppress the print outputs of all the functions inside this function. \n",
    "#It will only print #RMSE values\n",
    "def evaluateRS(ratings):\n",
    "    n_users = 10 #ratings.shape[0]\n",
    "    n_items = 10 #ratings.shape[1]\n",
    "    prediction = np.zeros((n_users, n_items))\n",
    "    prediction= pd.DataFrame(prediction)\n",
    "    sub_ratings = np.zeros((n_users, n_items))\n",
    "    sub_ratings = pd.DataFrame(sub_ratings)\n",
    "    \n",
    "    \n",
    "    #User-based CF (cosine)\n",
    "    with suppress_stdout():\n",
    "        metric = 'cosine'\n",
    "        for i in range(n_users):\n",
    "            for j in range(n_items):\n",
    "                prediction[i][j] = predict_userbased(train_users[i+1],train_items[j+1], ratings, metric)\n",
    "                sub_ratings[i][j] = ratings.loc[train_users[i+1], train_items[j+1]]\n",
    "    \n",
    "    MSE = mean_squared_error(prediction, sub_ratings)\n",
    "    RMSE = round(sqrt(MSE),3)\n",
    "    print (\"RMSE using user-based CF (cosine) approach is: {0}\".format(RMSE))\n",
    "    \n",
    "    #item-based CF (cosine)\n",
    "    with suppress_stdout():\n",
    "        prediction = np.zeros((n_users, n_items))\n",
    "        prediction= pd.DataFrame(prediction)\n",
    "        sub_ratings = np.zeros((n_users, n_items))\n",
    "        sub_ratings = pd.DataFrame(sub_ratings)\n",
    "        for i in range(n_users):\n",
    "            for j in range(n_items):\n",
    "                prediction[i][j] = predict_itembased(train_users[i+1],train_items[j+1], ratings)\n",
    "                sub_ratings[i][j] = ratings.loc[train_users[i+1], train_items[j+1]]\n",
    "\n",
    "    MSE = mean_squared_error(prediction, sub_ratings)\n",
    "    RMSE = round(sqrt(MSE),3)\n",
    "    print (\"RMSE using item-based CF (cosine) approach is: {0}\".format(RMSE))"
   ]
  },
  {
   "cell_type": "code",
   "execution_count": 53,
   "metadata": {},
   "outputs": [
    {
     "name": "stdout",
     "output_type": "stream",
     "text": [
      "RMSE using user-based CF (cosine) approach is: 1.985\n",
      "RMSE using item-based CF (cosine) approach is: 1.5\n"
     ]
    }
   ],
   "source": [
    "evaluateRS(R_df)"
   ]
  },
  {
   "cell_type": "markdown",
   "metadata": {},
   "source": [
    "## 7. Get top - K (K = 5) recommendations. Since our goal is to recommend new products to each user based on his/her habits,we will recommend 5 new products."
   ]
  },
  {
   "cell_type": "code",
   "execution_count": 73,
   "metadata": {},
   "outputs": [
    {
     "name": "stdout",
     "output_type": "stream",
     "text": [
      "4 most similar items for item B000GHXTBO:\n",
      "\n",
      "0: Item B002OY80OI :, with similarity of 0.9999999999999998\n",
      "1: Item B001CXT6NQ :, with similarity of 0.7071067811865475\n",
      "2: Item B002LAIEFU :, with similarity of 0.7071067811865475\n",
      "3: Item B00AD7PLJU :, with similarity of 0.7071067811865475\n",
      "4: Item B004QBQAXU :, with similarity of 0.7071067811865475\n",
      "\n",
      "Predicted rating for user A3H4S6YO9VNGDZ -> item B000GHXTBO: 0\n"
     ]
    },
    {
     "data": {
      "text/plain": [
       "0"
      ]
     },
     "execution_count": 73,
     "metadata": {},
     "output_type": "execute_result"
    }
   ],
   "source": [
    "# Lets go on item based approach as we have got lesser RMSE score compared to user-based approach...\n",
    "R_user = train_users[5]\n",
    "R_item = RM_df.iloc[5].idxmax(axis=1)\n",
    "predict_itembased('A3H4S6YO9VNGDZ','B000GHXTBO',RM_df)"
   ]
  },
  {
   "cell_type": "code",
   "execution_count": 59,
   "metadata": {},
   "outputs": [
    {
     "data": {
      "text/plain": [
       "'B0007RB280'"
      ]
     },
     "execution_count": 59,
     "metadata": {},
     "output_type": "execute_result"
    }
   ],
   "source": [
    "RM_df.iloc[5].idxmax(axis=1)"
   ]
  },
  {
   "cell_type": "code",
   "execution_count": 61,
   "metadata": {},
   "outputs": [
    {
     "data": {
      "text/plain": [
       "'A3H4S6YO9VNGDZ'"
      ]
     },
     "execution_count": 61,
     "metadata": {},
     "output_type": "execute_result"
    }
   ],
   "source": [
    "R_user"
   ]
  },
  {
   "cell_type": "code",
   "execution_count": 67,
   "metadata": {},
   "outputs": [
    {
     "data": {
      "text/plain": [
       "0.0"
      ]
     },
     "execution_count": 67,
     "metadata": {},
     "output_type": "execute_result"
    }
   ],
   "source": [
    "test = RM_df.iloc[567]\n",
    "test[0].max()"
   ]
  },
  {
   "cell_type": "code",
   "execution_count": 63,
   "metadata": {},
   "outputs": [
    {
     "data": {
      "text/plain": [
       "item_id\n",
       "0594481813    0.0\n",
       "0970407998    0.0\n",
       "0972683275    0.0\n",
       "1400501466    0.0\n",
       "1400501520    0.0\n",
       "1400501776    0.0\n",
       "1400532620    0.0\n",
       "1400532655    0.0\n",
       "140053271X    0.0\n",
       "1400599997    0.0\n",
       "1400698987    0.0\n",
       "3744295508    0.0\n",
       "7562434166    0.0\n",
       "8862935307    0.0\n",
       "8862936826    0.0\n",
       "9043413585    0.0\n",
       "9573212900    0.0\n",
       "9573212919    0.0\n",
       "9575871979    0.0\n",
       "9800359788    0.0\n",
       "9981719005    0.0\n",
       "9981734241    0.0\n",
       "9981739588    0.0\n",
       "9983891212    0.0\n",
       "9984922626    0.0\n",
       "9984984362    0.0\n",
       "9985511298    0.0\n",
       "9985511476    0.0\n",
       "9985525264    0.0\n",
       "9985696999    0.0\n",
       "             ... \n",
       "B00KW2W6B2    0.0\n",
       "B00KW3OFG0    0.0\n",
       "B00KWHMR6G    0.0\n",
       "B00KWL62QI    0.0\n",
       "B00KWMNDDM    0.0\n",
       "B00KWPRSJY    0.0\n",
       "B00KWWY1PQ    0.0\n",
       "B00KXAFYZS    0.0\n",
       "B00KXMN08E    0.0\n",
       "B00KXUHX9S    0.0\n",
       "B00KYA7CT8    0.0\n",
       "B00KYMCJF8    0.0\n",
       "B00L0YFJHY    0.0\n",
       "B00L1I727Y    0.0\n",
       "B00L1I80K2    0.0\n",
       "B00L1NZTSS    0.0\n",
       "B00L21HC7A    0.0\n",
       "B00L2442H0    0.0\n",
       "B00L26YDA4    0.0\n",
       "B00L2P3TRS    0.0\n",
       "B00L3YHF6O    0.0\n",
       "B00L403O94    0.0\n",
       "B00L5YZCCG    0.0\n",
       "B00L8I6SFY    0.0\n",
       "B00L8QCVL6    0.0\n",
       "B00LA6T0LS    0.0\n",
       "B00LBZ1Z7K    0.0\n",
       "B00LED02VY    0.0\n",
       "B00LGN7Y3G    0.0\n",
       "B00LGQ6HL8    0.0\n",
       "Name: A3H4S6YO9VNGDZ, Length: 38256, dtype: float64"
      ]
     },
     "execution_count": 63,
     "metadata": {},
     "output_type": "execute_result"
    }
   ],
   "source": [
    "RM_df."
   ]
  },
  {
   "cell_type": "code",
   "execution_count": 71,
   "metadata": {},
   "outputs": [
    {
     "name": "stderr",
     "output_type": "stream",
     "text": [
      "C:\\Users\\Iyyappan\\Anaconda3\\lib\\site-packages\\ipykernel_launcher.py:5: DeprecationWarning: \n",
      ".ix is deprecated. Please use\n",
      ".loc for label based indexing or\n",
      ".iloc for positional indexing\n",
      "\n",
      "See the documentation here:\n",
      "http://pandas.pydata.org/pandas-docs/stable/indexing.html#ix-indexer-is-deprecated\n",
      "  \"\"\"\n"
     ]
    },
    {
     "data": {
      "text/html": [
       "<div>\n",
       "<style scoped>\n",
       "    .dataframe tbody tr th:only-of-type {\n",
       "        vertical-align: middle;\n",
       "    }\n",
       "\n",
       "    .dataframe tbody tr th {\n",
       "        vertical-align: top;\n",
       "    }\n",
       "\n",
       "    .dataframe thead th {\n",
       "        text-align: right;\n",
       "    }\n",
       "</style>\n",
       "<table border=\"1\" class=\"dataframe\">\n",
       "  <thead>\n",
       "    <tr style=\"text-align: right;\">\n",
       "      <th></th>\n",
       "      <th>user_id</th>\n",
       "      <th>item_id</th>\n",
       "      <th>score</th>\n",
       "    </tr>\n",
       "  </thead>\n",
       "  <tbody>\n",
       "    <tr>\n",
       "      <th>971903</th>\n",
       "      <td>A3H4S6YO9VNGDZ</td>\n",
       "      <td>B000GHXTBO</td>\n",
       "      <td>5.0</td>\n",
       "    </tr>\n",
       "  </tbody>\n",
       "</table>\n",
       "</div>"
      ],
      "text/plain": [
       "               user_id     item_id  score\n",
       "971903  A3H4S6YO9VNGDZ  B000GHXTBO    5.0"
      ]
     },
     "execution_count": 71,
     "metadata": {},
     "output_type": "execute_result"
    }
   ],
   "source": [
    "user_data_R = train_data[train_data['user_id'] == 'A3H4S6YO9VNGDZ']\n",
    "user_items_R = list(user_data_R['item_id'].unique())\n",
    "user_items_R\n",
    "\n",
    "train_data.ix[(train_data['item_id']=='B000GHXTBO') & (train_data['user_id'] == 'A3H4S6YO9VNGDZ')]"
   ]
  },
  {
   "cell_type": "code",
   "execution_count": 88,
   "metadata": {},
   "outputs": [
    {
     "name": "stdout",
     "output_type": "stream",
     "text": [
      "4 most similar items for item B000GHXTBO:\n",
      "\n",
      "0: Item B002OY80OI :, with similarity of 0.9999999999999998\n",
      "1: Item B001CXT6NQ :, with similarity of 0.7071067811865475\n",
      "2: Item B002LAIEFU :, with similarity of 0.7071067811865475\n",
      "3: Item B00AD7PLJU :, with similarity of 0.7071067811865475\n",
      "4: Item B004QBQAXU :, with similarity of 0.7071067811865475\n"
     ]
    }
   ],
   "source": [
    "similarities, indices=findksimilaritems('B000GHXTBO', R_df)"
   ]
  },
  {
   "cell_type": "code",
   "execution_count": 89,
   "metadata": {},
   "outputs": [],
   "source": [
    "sum_wt = np.sum(similarities)-1 #2.828\n",
    "product=1"
   ]
  },
  {
   "cell_type": "code",
   "execution_count": 90,
   "metadata": {},
   "outputs": [
    {
     "data": {
      "text/plain": [
       "2.82842712474619"
      ]
     },
     "execution_count": 90,
     "metadata": {},
     "output_type": "execute_result"
    }
   ],
   "source": [
    "sum_wt"
   ]
  },
  {
   "cell_type": "code",
   "execution_count": null,
   "metadata": {},
   "outputs": [],
   "source": [
    "for i in range(0, len(indices.flatten())):\n",
    "        if indices.flatten()[i]+1 == 'B000GHXTBO':\n",
    "            continue;\n",
    "        else:\n",
    "            product = ratings.iloc[2-1,indices.flatten()[i]] * (similarities[i])\n",
    "            wtd_sum = wtd_sum + product     "
   ]
  },
  {
   "cell_type": "code",
   "execution_count": 91,
   "metadata": {},
   "outputs": [
    {
     "data": {
      "text/plain": [
       "array([[ 7281, 19123, 37153, 23443, 17324]], dtype=int64)"
      ]
     },
     "execution_count": 91,
     "metadata": {},
     "output_type": "execute_result"
    }
   ],
   "source": [
    "indices"
   ]
  },
  {
   "cell_type": "code",
   "execution_count": 101,
   "metadata": {},
   "outputs": [
    {
     "data": {
      "text/plain": [
       "0.0"
      ]
     },
     "execution_count": 101,
     "metadata": {},
     "output_type": "execute_result"
    }
   ],
   "source": [
    "R_df.iloc[2,indices.flatten()[3]]\n"
   ]
  },
  {
   "cell_type": "code",
   "execution_count": 94,
   "metadata": {},
   "outputs": [
    {
     "data": {
      "text/plain": [
       "array([1.        , 0.70710678, 0.70710678, 0.70710678, 0.70710678])"
      ]
     },
     "execution_count": 94,
     "metadata": {},
     "output_type": "execute_result"
    }
   ],
   "source": [
    "similarities"
   ]
  },
  {
   "cell_type": "code",
   "execution_count": 104,
   "metadata": {},
   "outputs": [
    {
     "data": {
      "text/plain": [
       "item_id\n",
       "0594481813    0.0\n",
       "0970407998    0.0\n",
       "0972683275    0.0\n",
       "1400501466    0.0\n",
       "1400501520    0.0\n",
       "1400501776    0.0\n",
       "1400532620    0.0\n",
       "1400532655    0.0\n",
       "140053271X    0.0\n",
       "1400599997    0.0\n",
       "1400698987    0.0\n",
       "3744295508    0.0\n",
       "7562434166    0.0\n",
       "8862935307    0.0\n",
       "8862936826    0.0\n",
       "9043413585    0.0\n",
       "9573212900    0.0\n",
       "9573212919    0.0\n",
       "9575871979    0.0\n",
       "9800359788    0.0\n",
       "9981719005    0.0\n",
       "9981734241    0.0\n",
       "9981739588    0.0\n",
       "9983891212    0.0\n",
       "9984922626    0.0\n",
       "9984984362    0.0\n",
       "9985511298    0.0\n",
       "9985511476    0.0\n",
       "9985525264    0.0\n",
       "9985696999    0.0\n",
       "             ... \n",
       "B00KW2W6B2    0.0\n",
       "B00KW3OFG0    0.0\n",
       "B00KWHMR6G    0.0\n",
       "B00KWL62QI    0.0\n",
       "B00KWMNDDM    0.0\n",
       "B00KWPRSJY    0.0\n",
       "B00KWWY1PQ    0.0\n",
       "B00KXAFYZS    0.0\n",
       "B00KXMN08E    0.0\n",
       "B00KXUHX9S    0.0\n",
       "B00KYA7CT8    0.0\n",
       "B00KYMCJF8    0.0\n",
       "B00L0YFJHY    0.0\n",
       "B00L1I727Y    0.0\n",
       "B00L1I80K2    0.0\n",
       "B00L1NZTSS    0.0\n",
       "B00L21HC7A    0.0\n",
       "B00L2442H0    0.0\n",
       "B00L26YDA4    0.0\n",
       "B00L2P3TRS    0.0\n",
       "B00L3YHF6O    0.0\n",
       "B00L403O94    0.0\n",
       "B00L5YZCCG    0.0\n",
       "B00L8I6SFY    0.0\n",
       "B00L8QCVL6    0.0\n",
       "B00LA6T0LS    0.0\n",
       "B00LBZ1Z7K    0.0\n",
       "B00LED02VY    0.0\n",
       "B00LGN7Y3G    0.0\n",
       "B00LGQ6HL8    0.0\n",
       "Name: A105S56ODHGJEK, Length: 38256, dtype: float64"
      ]
     },
     "execution_count": 104,
     "metadata": {},
     "output_type": "execute_result"
    }
   ],
   "source": [
    "R_df.iloc[2,:]"
   ]
  },
  {
   "cell_type": "code",
   "execution_count": null,
   "metadata": {},
   "outputs": [],
   "source": []
  }
 ],
 "metadata": {
  "kernelspec": {
   "display_name": "Python 3",
   "language": "python",
   "name": "python3"
  }
 },
 "nbformat": 4,
 "nbformat_minor": 1
}
